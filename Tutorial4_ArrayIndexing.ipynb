{
 "cells": [
  {
   "cell_type": "markdown",
   "metadata": {},
   "source": [
    "# Practical Python for Scientists and Engineers\n",
    "\n",
    "Welcome!  The goal of these tutorials is to help you get familiar with basic aspects of Python that will allow you to be more productive in everyday work.  We will work on skills that will let you graph, manipulate, and manage data.  Our goal will be to take things one step at a time, learning only what is needed to accomplish a specific task.  The philosophy behind these tutorials is learning by doing, rather than learning to let you do something later.  Hopefully you will start learning tools right from day one that will be useful in other settings.  By the end of these tutorials, you will be able to make complicated applications that load and save data to and from files, manipulate data, run numerical simulations, make complex visualizations and more! \n",
    "\n",
    "Before we get started, we will load pylab - recall that this command just loads some useful tools for us."
   ]
  },
  {
   "cell_type": "markdown",
   "metadata": {},
   "source": [
    "## Tutorial 4: Array Indexing - Part 1\n",
    "Recall that arrays are a way of storing information, much like a table.  In this tutorial we will learn about how to access and/or write information to a particular location within an array (much like finding a particular location in a spreadsheet).\n",
    "\n",
    "In this tutorial, we will learn how to use lists and arrays to store multiple data sets and then use these to effeciently plot the data. \n",
    "\n",
    "<U>Part 1:</u>\n",
    "- Refresher on Lists and Arrays\n",
    "- Indexing in a One Dimensional Array\n",
    "- Special Functions for Creating One Dimensional Arrays\n",
    "\n",
    "<u>Part 2:</u> \n",
    "- Multidimensional Arrays\n",
    "- Special Array Functions\n",
    "\n",
    "<u>Part 3:</u>\n",
    "- Using Arrays to Store and Plot Data Sets\n",
    "\n",
    "### Step 1: Refresher on Arrays\n",
    "Recall that we previously introduced the idea of lists and arrays.  Python *lists* are an ordered set of any kind of information that does not need to be of the same type.  For example, a list can contain a number in one element and text in another.  In contrast, Numpy *arrays* are also ordered sets of information, but the information in every cell must be of the same type (e.g., floating point numbers).    \n",
    "\n",
    "Recall that to create a list, we use square brackets to create a set of items in the list sepeated by commas:"
   ]
  },
  {
   "cell_type": "code",
   "execution_count": null,
   "metadata": {},
   "outputs": [],
   "source": [
    "a = ['this', 'is','a list', 1, 22.3]    #assign values to different positions in a list\n",
    "print(a) \n",
    "a[2]"
   ]
  },
  {
   "cell_type": "markdown",
   "metadata": {},
   "source": [
    "The items in a list can be anything, numbers, text, other lists, arrays, etc.\n",
    "Lists give you a great deal of flexibility, but they are not very efficient.  This is why people use arrays for numerical problems, where all of the data are of the same type.  This loss of flexibilty produces some advantages for efficiency.\n",
    "\n",
    "Recall that we previously created arrays by creating a list and then switching it to be an array using the `array()` function from NumPy as shown in the example below:"
   ]
  },
  {
   "cell_type": "code",
   "execution_count": null,
   "metadata": {},
   "outputs": [],
   "source": [
    "import numpy as np\n",
    "b = [1,2,3,4,5]   #this is a list of integers\n",
    "c = np.array(b)   #this turns the list into an array\n",
    "\n",
    "print(b)\n",
    "print('The variable b is of type: ', type(b))\n",
    "print('The first element of b is of type: ', type(b[0]))\n",
    "\n",
    "print(c)\n",
    "print('The variable c is of type: ', type(c))\n",
    "print('The first element of c is of type: ', type(c[0]))\n"
   ]
  },
  {
   "cell_type": "markdown",
   "metadata": {},
   "source": [
    "You can see from this example that we initially assigned a list to the variable b.  Each element of that list is an integer.  Once we use the NumPy function `array()` to convert b, we have transformed the list to an array.  Each element of the array is still an integer (though now NumPy has been more specific that it is a 32-bit integer - this isn't that important to us now, but the number of bits is the amount of memory allocated to a number and the higher the number of bits, the larger the range of values that can be stored).  \n",
    "\n",
    "If we print each variable to look at it, we see that the results are really similar but for b we see that the values are seperated by commas because they are a list.  In contrast, we just see the set of values printed from the array.\n",
    "\n",
    "One minor point to consider is that arrays have a homogenous data type (i.e., all values in the array have to be of the same type), but that doesn't necessarily mean that they need to be numbers.  Check out this example:"
   ]
  },
  {
   "cell_type": "code",
   "execution_count": null,
   "metadata": {},
   "outputs": [],
   "source": [
    "import numpy as np\n",
    "d = np.array([1, 2, 3, 4, 5,'its'])\n",
    "print(d)\n",
    "print('The variable d is of type: ', type(d))\n",
    "print('The first element in array d is of type: ', type(d[0]))\n",
    "print('What is stored in the first element of d is: ', d[0])\n",
    "print('What is d[0]*3?', d[0]*3)"
   ]
  },
  {
   "cell_type": "markdown",
   "metadata": {},
   "source": [
    "In this case, we started with a list of numbers like efore, but now we add the string `'its'` at the end of the list.  Now if we check what type of information is stored in d, we find out that it is an array just like before.  However, when we check the data type of the first element of the array (which is the number one), we find out that it is a string, not an integer!  So in this case, Python appears to have changed all of the numbers into their text string equivalents.  We can confirm this by multiplying the first element of d by 3.  From above we can see that the value of this element is 1, so what we would expect is that 1 x 3 = 3, right?  But what we find instead is that 1 x 3 = 111!  This is because the \"1\" stored in the array is the text charcter representing the number one, not the actual mathematical number one that we can use in calculations.\n",
    "\n",
    "The bottom line of this example is that NumPy has converted all of our integers to strings because every element in an array *MUST* be of the same data type and it is not possible to change a string like `'its'` to a number.  So point is that from the beginning you should make sure that you are planning to use arrays for data all of the same type to avoid problems.\n",
    "\n",
    "Note that lists do not have this problem since every item in a list can be of a different data type:"
   ]
  },
  {
   "cell_type": "code",
   "execution_count": null,
   "metadata": {},
   "outputs": [],
   "source": [
    "e = [1,2,3,4,5,'its']\n",
    "print(e)\n",
    "print('The variable e is of type: ', type(e))\n",
    "print('The first item in list e is of type: ', type(e[0]))\n",
    "print('What is stored in the first item in e is: ', e[0])\n",
    "print('What is e[0]*3?', e[0]*3)\n",
    "print('The last item in list e is of type: ', type(e[5]))\n",
    "print('What is stored in the last item of list e is: ', e[5])\n"
   ]
  },
  {
   "cell_type": "markdown",
   "metadata": {},
   "source": [
    "Here we see that we can hold both numbers and strings in different elements of a list."
   ]
  },
  {
   "cell_type": "markdown",
   "metadata": {},
   "source": [
    "### Step 2: Indexing in a One Dimensional Array\n",
    "As you may have noticed above, it is pretty easy to find information within a one dimensional list or array using square brackets to specify which position in the list or array you wish to reference.  This position in the array is called the *index* and in Python it starts at a value of zero. \n",
    "\n",
    "In this example below you can see that we can easily find what is stored in each element of an array."
   ]
  },
  {
   "cell_type": "code",
   "execution_count": null,
   "metadata": {},
   "outputs": [],
   "source": [
    "f = np.array([100, 101, 102, 0, 104])\n",
    "print(f)\n",
    "print('The value stored at index 0 is: ', f[0])\n",
    "print('The value stored at index 1 is: ', f[1])\n",
    "print('The value stored at index 2 is: ', f[2])\n",
    "print('The value stored at index 3 is: ', f[3])\n",
    "print('The value stored at index 4 is: ', f[4])\n",
    "\n",
    "print('Here is an example where we extract the fifth element (i.e., index = 4) and do some calculations with that value:')\n",
    "print((f[4]+10)/2)"
   ]
  },
  {
   "cell_type": "markdown",
   "metadata": {},
   "source": [
    "Try using the value stored in the first element of array f in the formula $y = x^{2}/1000$"
   ]
  },
  {
   "cell_type": "code",
   "execution_count": null,
   "metadata": {},
   "outputs": [],
   "source": [
    "\n",
    "\n",
    "#the correct answer is 10"
   ]
  },
  {
   "cell_type": "markdown",
   "metadata": {},
   "source": [
    "In addition to taking values out of an array, we can also reassign or \"update\" values in an array.  For example, let's say that you made an error and wanted to replace the zero in the fourth element (i.e., index = 3) with a value of 103, then you can just assign the new value directly to that element: "
   ]
  },
  {
   "cell_type": "code",
   "execution_count": null,
   "metadata": {},
   "outputs": [],
   "source": [
    "f[3] = 103\n",
    "print(f)"
   ]
  },
  {
   "cell_type": "markdown",
   "metadata": {},
   "source": [
    "Try replacing the first element of the array with the number 9090.  Your result should look like this: `[9090 101 102 103 104]`"
   ]
  },
  {
   "cell_type": "code",
   "execution_count": null,
   "metadata": {},
   "outputs": [],
   "source": [
    "             #add your code to this line\n",
    "print(f)"
   ]
  },
  {
   "cell_type": "markdown",
   "metadata": {},
   "source": [
    "It is also possible to replace multiple values in the array at the same time by including a list (or array) containing multiple index values that you want to replace in the square brackets.  Here we replace the first two values in the array with zeros:"
   ]
  },
  {
   "cell_type": "code",
   "execution_count": null,
   "metadata": {},
   "outputs": [],
   "source": [
    "f[[0,1]] = 0\n",
    "print(f)"
   ]
  },
  {
   "cell_type": "markdown",
   "metadata": {},
   "source": [
    "We could also replace all values in the array by a single value, but using a colon in the square brackets:"
   ]
  },
  {
   "cell_type": "code",
   "execution_count": null,
   "metadata": {},
   "outputs": [],
   "source": [
    "f[:] = 999\n",
    "print(f)"
   ]
  },
  {
   "cell_type": "markdown",
   "metadata": {},
   "source": [
    "Try replacing the last three values in the array with the value 808.  Your result should look like this: `[999 999 808 808 808]`"
   ]
  },
  {
   "cell_type": "code",
   "execution_count": null,
   "metadata": {},
   "outputs": [],
   "source": [
    "             #add your code to this line\n",
    "print(f)"
   ]
  },
  {
   "cell_type": "markdown",
   "metadata": {},
   "source": [
    "Sometimes you will want to replace multiple values in an array with multiple new values, i.e., not a single number at all index positions.  In this case, you will still use a list (or array) to specify the index values where you want to replace the existing values of the array.  Now you must also provide a list (or array) of numbers that are the values that you want to have inserted *into* the existing array. \n",
    "\n",
    "For example, let's say that we wanted the first, third, and fourth value in array f with the values of 5, 15, and 25, respectively.  Then we can accomplish this as follows:"
   ]
  },
  {
   "cell_type": "code",
   "execution_count": null,
   "metadata": {},
   "outputs": [],
   "source": [
    "f[[0,2,4]] = [5, 15, 25]\n",
    "print(f)"
   ]
  },
  {
   "cell_type": "markdown",
   "metadata": {},
   "source": [
    "### Step 3: Special Functions for Creating Arrays\n",
    "There are several special functions that you can use to more easily create a list or array of values.\n",
    "Note that all array functions below are from the NumPy module, thus the module must be imported before you can use them.\n",
    "\n",
    "### array()\n",
    "*Use the `array()` function to create an array from an existing list.*\n",
    "\n",
    "### arange(*start:stop:step*)\n",
    "*Create an array beginning with the value specified by `start` and ending with the value specified by `stop-1`, and increasing by an increment specified by the value `step`.  It is important to note that the array will end at the last value of possible that IS LESS than the value `stop`.  The value `stop` will not itself be included in the array.*\n",
    "\n",
    "### r_[*start:stop:step*]\n",
    "*A shortcut for arange, but otherwise the same.*\n",
    "\n",
    "### linspace(*start, stop, num*)\n",
    "*Create an array with values beginning at `start` and ending at `stop` with the total number of elements specified by `num`.  Note that this is different from the `arange()` function because here `num` specified the number of elements that will be in the array, whereas in `arange()` the `step` parameter is the size of the increment between each element of the array.  The step size is $\\frac{(start-stop)}{(num-1)}$*.\n",
    "\n",
    "### r_[*start:stop:num*j]\n",
    "*A shortcut for linspace.  The **letter j** must be included after the value for `num`. (See cell below for an example)\n"
   ]
  },
  {
   "cell_type": "code",
   "execution_count": null,
   "metadata": {},
   "outputs": [],
   "source": [
    "g = np.arange(0,5,0.5)\n",
    "h= np.linspace(0,5,11)\n",
    "\n",
    "print('Result using arange(): ',g)  #notice that g does not include the number 5!\n",
    "print('Result using linspace: ',h)  #notice that h includes both the start and stop value!\n",
    "print('The step size is: (5-0)/(11-1) =',(5-0)/(11-1))\n",
    "\n",
    "#short cut versions (these do the same thing as above)\n",
    "g2 = np.r_[0:5:0.5]\n",
    "h2 = np.r_[0:5:11j]\n",
    "\n",
    "print('Short cut for arange(): ',g2)  #notice that g does not include the number 5!\n",
    "print('Short cut for linspace(): ',h2)  #notice that h includes both the start and stop value!"
   ]
  },
  {
   "cell_type": "markdown",
   "metadata": {},
   "source": [
    "Create an array that starts at the value 10 and ends with the value 100, incrementing each element by 10."
   ]
  },
  {
   "cell_type": "code",
   "execution_count": null,
   "metadata": {},
   "outputs": [],
   "source": [
    "np.r_[  :   : j]  #insert the correct values in the spaces in the code to the left"
   ]
  },
  {
   "cell_type": "markdown",
   "metadata": {},
   "source": [
    "The correct output should look like this:\n",
    "`array([ 10.,  20.,  30.,  40.,  50.,  60.,  70.,  80.,  90., 100.])`"
   ]
  },
  {
   "cell_type": "markdown",
   "metadata": {},
   "source": [
    "### logspace(*start,stop,num,*base=b)\n",
    "*To create an array of values that increase in a logarithmic fashion, you can use the `logspace()` function.  This function creates the number of logarithmically spaced values specified by `num` between the values of $b^{start}$ and $b^{stop}$.  The variable b is a number that specifies the base of the logarithm with the default base as b=10.*"
   ]
  },
  {
   "cell_type": "code",
   "execution_count": null,
   "metadata": {},
   "outputs": [],
   "source": [
    "np.logspace(-1,3,5)"
   ]
  },
  {
   "cell_type": "code",
   "execution_count": null,
   "metadata": {},
   "outputs": [],
   "source": [
    "np.logspace(-1,3,5,base=np.e)"
   ]
  },
  {
   "cell_type": "code",
   "execution_count": null,
   "metadata": {},
   "outputs": [],
   "source": [
    "#Notice that in the last example, we use the base e = 2.718 which provides values spaced following the natural logarithm:\n",
    "\n",
    "print('The first element of the array is: ',np.e**-1)\n",
    "print('The second element of the array is: ', np.e**0)\n",
    "print('The third element of the array is: ', np.e**1)\n",
    "print('The fourth element of the array is: ',np.e**2)\n",
    "print('The last element of the array is: ',np.e**3)\n",
    "print()\n",
    "print('This is the same result as if we had performed the following: 10**[-1 0 1 2 3]')\n",
    "np.e**np.array([-1, 0, 1, 2, 3])"
   ]
  },
  {
   "cell_type": "markdown",
   "metadata": {},
   "source": [
    "### zeros(*num*)\n",
    "*Create an array of size `num` that is completely filled with zeros.*\n",
    "\n",
    "Though this seems like a strange thing to do, you will come across the need to do this often.  For example, you may want to create an array of zeros and then replace certain values with observed data values."
   ]
  },
  {
   "cell_type": "code",
   "execution_count": null,
   "metadata": {},
   "outputs": [],
   "source": [
    "k = np.zeros(10)\n",
    "print(k)\n",
    "\n",
    "k[5:8] = [7,8,9]\n",
    "print('Array with updated values:')\n",
    "print(k)"
   ]
  },
  {
   "attachments": {},
   "cell_type": "markdown",
   "metadata": {},
   "source": [
    "# Challenge Problem #1\n",
    "You performed an experiment measuring the displacement of a rock over time as a constant stress was applied to it.  The data you collected are given in the arrays below.  You notice that the final value is negative, which is physically impossible.  You decide to replace this value by the avarage of the other data values observed during the experiment.  \n",
    "\n",
    "Make this correction to the `displacement` array and then plot the data.  Your final plot should look like [this](https://www.dropbox.com/s/ldojhydharmfvhw/tutorial4_challenge1_figure_result.png?dl=0)."
   ]
  },
  {
   "cell_type": "code",
   "execution_count": null,
   "metadata": {},
   "outputs": [],
   "source": [
    "time = np.array([0, 5, 10, 20, 30, 60, 120])\n",
    "displacement = np.array([9.7, 18.8, 43.0, 76.1, 105.3, 127.9, -135.7])\n",
    "\n",
    "#Don't forget that you will need to load the matplotlib.pyplot module to add the plot function!\n",
    "\n",
    "\n",
    "\n"
   ]
  },
  {
   "cell_type": "markdown",
   "metadata": {},
   "source": [
    "# Challenge Problem #2\n",
    "Create a plot showing the function \n",
    "$y = log_{10}(x)$ between the values of x = 0.01 and x = 100.  Use an x for the symbol and connect the points with a line.\n",
    "\n",
    "\n",
    "Add to your plot the function $x = 10^{y}$ between the values y = -2 and y = 2. Use red dots as symbols and do not connect the points with a line.\n",
    "\n",
    "The final figure should look like this: [figure file](https://www.dropbox.com/s/6rsayi90vbn67go/tutorial4_challenge_figure_result.png?dl=0)\n",
    "\n",
    "#### Hints: \n",
    "- For the second plot start with creating values of y and then calculate the values of x using a statement like: x = 10**y\n",
    "- In both cases, plot the variable x in the functions above on the x axis and the variable y on the y axis\n",
    "- Create the arrays of data first, before you worry about making the plots\n",
    "- Don't forget that you don't have to use the variable names x and y.  You can name the variables that you assing the arrays to whatever you want (e.g., in my solution, I named them x1 and y1 for the first plot and x2 and y2 for the second plot).\n",
    "- If you are *really, really* stuck or want to compare your solution to mine, you can download this [text file](https://www.dropbox.com/s/kcok08n83ov0myz/tutorial4_challenge_solution.txt?dl=0) with my solution.\n",
    "\n"
   ]
  },
  {
   "cell_type": "code",
   "execution_count": null,
   "metadata": {},
   "outputs": [],
   "source": [
    "\n",
    "\n",
    "\n"
   ]
  }
 ],
 "metadata": {
  "kernelspec": {
   "display_name": "Python 3",
   "language": "python",
   "name": "python3"
  },
  "language_info": {
   "codemirror_mode": {
    "name": "ipython",
    "version": 3
   },
   "file_extension": ".py",
   "mimetype": "text/x-python",
   "name": "python",
   "nbconvert_exporter": "python",
   "pygments_lexer": "ipython3",
   "version": "3.7.1"
  }
 },
 "nbformat": 4,
 "nbformat_minor": 2
}
