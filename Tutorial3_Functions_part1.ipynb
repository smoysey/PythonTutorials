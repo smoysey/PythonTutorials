{
 "cells": [
  {
   "cell_type": "markdown",
   "metadata": {},
   "source": [
    "# Practical Python for Scientists and Engineers\n",
    "\n",
    "Welcome!  The goal of these tutorials is to help you get familiar with basic aspects of Python that will allow you to be more productive in everyday work.  We will work on skills that will let you graph, manipulate, and manage data.  Our goal will be to take things one step at a time, learning only what is needed to accomplish a specific task.  The philosophy behind these tutorials is learning by doing, rather than learning to let you do something later.  Hopefully you will start learning tools right from day one that will be useful in other settings.  By the end of these tutorials, you will be able to make complicated applications that load and save data to and from files, manipulate data, run numerical simulations, make complex visualizations and more! \n",
    "\n",
    "Before we get started, we will load pylab - recall that this command just loads some useful tools for us."
   ]
  },
  {
   "cell_type": "code",
   "execution_count": null,
   "metadata": {},
   "outputs": [],
   "source": [
    "pylab"
   ]
  },
  {
   "cell_type": "markdown",
   "metadata": {},
   "source": [
    "## Tutorial 3: Functions (Part 1)\n",
    "\n",
    "This tutorial introduces functions.  Functions are a fundamentally important part of programming as they allow you to perform complex tasks in a simple way.  For example, consider previous tutorials where you created a graph using the ``plot()`` command.  That command is actually a function that takes your data as inputs and behind the curtain performs a large number of operations to finally output the final graph you wanted.\n",
    "\n",
    "Here's what we'll cover in this tutorial:\n",
    "\n",
    "<U>Part 1</u>\n",
    "- basic introduction to using functions\n",
    "- built in Python functions\n",
    "- using Python modules\n",
    "\n",
    "<u>Part 2</u>\n",
    "- creating your own custom functions\n",
    "- global versus local variables\n",
    "\n",
    "\n",
    "### Step 1: Basic Introduction to Using Functions\n",
    "There are lots of mathematical functions that you are used to.  For example, you are probably familiar with trigonometric functions, like sin(), cos(), tan(). You are also probably familiar with the exponential function `exp()` and logarithms `log()`.   "
   ]
  },
  {
   "cell_type": "code",
   "execution_count": null,
   "metadata": {},
   "outputs": [],
   "source": [
    "#calculate the cosine of 45 degrees.  Note that the cosine function takes angles in radians as an input.  \n",
    "#Convert degrees to radians by multiplying by pi/180.  \n",
    "#Enter your code below:\n",
    "\n",
    "\n",
    "#The correct result is 0.7071"
   ]
  },
  {
   "cell_type": "code",
   "execution_count": null,
   "metadata": {},
   "outputs": [],
   "source": [
    "#calculate the natural logarithm of 1000 using the log() function and assign it to the variable y\n",
    "\n",
    "\n",
    "#calculate the base 10 logarithm of 1000 using the log10() function and assign it to the variable z\n",
    "\n",
    "\n",
    "print('My answer is: ln(1000) = '+str(y)+' and log(1000) = '+str(z)) \n",
    "\n",
    "#The correct result is 6.9 for the natural logarithm of 1000 and 3 for the base 10 logarithm of 1000."
   ]
  },
  {
   "cell_type": "markdown",
   "metadata": {},
   "source": [
    "All functions have three basic things in common:\n",
    "1. they have a name that you use to \"call\" them\n",
    "2. they can take some information as an input\n",
    "3. they can return some results as an output\n",
    "\n",
    "#### Function Names\n",
    "We give functions a <u>name</u> that we use to refer to, or *call*, it in our code.  For example, you saw in the example above that the Python ``log(x)`` and ``log10(x)`` functions have names that are different from the actual mathematical symbols we use. \n",
    "\n",
    "| English |Math Symbol|  Python Name |\n",
    "|---|---|---|\n",
    "|base 10 logarithm |log() | log10() | \n",
    "|natural logarithm |ln() | log() |\n",
    "\n",
    "It is important to realize that functions are just names in Python and *not really* mathematical functions.  So, for example, when somebody programmed up the `log()` function that we are using, they could have just as easily called it `natural_log()` or even `banana()` and any one of those Python functions could have then ended up being the *name* we use today for calcluating a natural logarithm.  Altneratively, our hypothetical programmer could have decided to use the *function name* `log()` to calculate the base 10 logarithm - I often wonder why they didn't just use `ln()` and `log()` for the natural and base 10 logarithm respestively as it would be a lot less confusing!  Anyway, the point is that the *name* of a function in Python is just that, a name and nothing more.  \n",
    "\n",
    "#### Function Input Arguments\n",
    "Most functions require you to provide an input that they need to perform some customized action.  These input values are called *input arguments*.  For example, for the `log(3)` function, the input argument is the number 3.  Some functions will allow you to supply multiple input arguments.  For example, the `plot(x,y)` function allows you to submit a value, list, or array for both x and for y.  Sometimes inputs are text strings, such as for the `title()` function that allowed us to add a title to our graph.  Any information that a function will need to *\"know\"* to complete a task will need to be provided as an input.  For the most part, a function can't \"see\" the variables that you have defined unless you \"pass\" them in to the function as an input argument (though there are some exceptions to this rule we may discuss later).    \n",
    "\n",
    "#### Function Output Arguments\n",
    "Functions will also output (or *return*) a result.  For example, in the example above the `log10(1000)` returned an output value of 3, which you then assigned to the variable `z`.  A function could have more than one output.  There are several ways to deal with this, but the simplest is to just assign them to a new variable, such as in `output1, output2 = my_function(inputs)`.  It is also possible that a function might do something, but not have an output.  The `title()` function was a good example as it added a title to your graph, but didn't give you an output. \n",
    "\n",
    "### info() command\n",
    "\n",
    "*get help on what a function does and how to use it: `info()`*\n",
    "\n",
    "You can use this command to learn more about what a function is and how it works.  The input argument of the `info()` function is the name of the function you would like to learn about.  There are no output arguments.\n",
    "\n",
    "Run the code cell below to learn about the `log()` function."
   ]
  },
  {
   "cell_type": "code",
   "execution_count": null,
   "metadata": {
    "scrolled": true
   },
   "outputs": [],
   "source": [
    "help(log)"
   ]
  },
  {
   "cell_type": "markdown",
   "metadata": {},
   "source": [
    "Now use the info function to learn about the `log10()` function"
   ]
  },
  {
   "cell_type": "markdown",
   "metadata": {},
   "source": []
  },
  {
   "cell_type": "markdown",
   "metadata": {},
   "source": [
    "From the info you can see that both the `log()` and `log10()` functions can take arrays (and tuples or lists) as input.  This means that you can use the function on many values all at the same time.\n",
    "\n",
    "Run the code cell bellow to see an example."
   ]
  },
  {
   "cell_type": "code",
   "execution_count": null,
   "metadata": {},
   "outputs": [],
   "source": [
    "a = ([1,10,100,1000])\n",
    "log10(a)"
   ]
  },
  {
   "cell_type": "markdown",
   "metadata": {},
   "source": [
    "Rather than creating a list of numbers by hand, sometimes you will want to create a sequence of values following some regular pattern.  There are several ways to do this, but a common way is using the `arange()` function.\n",
    "\n",
    "### arange(start, stop, step)\n",
    "\n",
    "*make an array of evenly distributed numbers that begins at the value specified by __start__ and goes up to, but does not include the value specified by __stop__ with a step size of __step__.  The output is an array.*\n",
    "\n",
    "Run the code cell below to see an example of how to use the `arange()` function to make a list of numbers that looks like this: [2 4 6 8]"
   ]
  },
  {
   "cell_type": "code",
   "execution_count": null,
   "metadata": {},
   "outputs": [],
   "source": [
    "x = arange(2,9,2)\n",
    "print(x)"
   ]
  },
  {
   "cell_type": "markdown",
   "metadata": {},
   "source": [
    "Try using the `arange()` function to make a list of numbers that looks like this: [0.5 1.0 1.5 2.0 2.5]\n",
    "and assign it to the variable `x`"
   ]
  },
  {
   "cell_type": "code",
   "execution_count": null,
   "metadata": {},
   "outputs": [],
   "source": []
  },
  {
   "cell_type": "markdown",
   "metadata": {},
   "source": [
    "Remember that you can perform calculations with this array.  \n",
    "\n",
    "Run the code cell below to try calculating 10$^{x}$ and then plot the result."
   ]
  },
  {
   "cell_type": "code",
   "execution_count": null,
   "metadata": {},
   "outputs": [],
   "source": [
    "plot(x,10**x,'.') "
   ]
  },
  {
   "cell_type": "markdown",
   "metadata": {},
   "source": [
    "#### Mini-challenge!\n",
    "Make a plot that shows the function $y = x*e^{-x}$ between the values of x=0 and x=10 with a spacing of 0.1.\n",
    "Don't forget to label the axis and add a figure title.\n",
    "\n",
    "*Hint:* Use the exp() function.  Your figure should look like a hump."
   ]
  },
  {
   "cell_type": "code",
   "execution_count": null,
   "metadata": {},
   "outputs": [],
   "source": []
  },
  {
   "cell_type": "markdown",
   "metadata": {},
   "source": [
    "### Step 2: Built-In Python Functions\n",
    "You can find a list of built-in Python functions at: [https://docs.python.org/3/library/functions.html](https://docs.python.org/3/library/functions.html)\n",
    "This is a pretty small list because these are just functions available in the most basic version of Python when you first start up your session.  It doesn't even contain the `log()` and `log10()` functions that we were just using!  Believe it or not, Python is bad at math!  \n",
    "\n",
    "Learn about the following functions using the info() function: str(), float(), abs(), sum(), tuple(), input(), help()\n",
    "\n",
    "You can try some of these functions out to make sure that you understand what they do!"
   ]
  },
  {
   "cell_type": "code",
   "execution_count": null,
   "metadata": {},
   "outputs": [],
   "source": []
  },
  {
   "cell_type": "markdown",
   "metadata": {},
   "source": [
    "### Step 3: Python Modules\n",
    "Recall that at the beginning of the tutorial we run the `pylab` command before we do anything else because it loads in some useful features that are not available by default in Python, such as the NumPy module.  NumPy stands for Numerical Python and it is \n",
    "what added the *arrays* feature we used in a previous tutorial, including the `arange()` function.  NumPy also adds a lot of extra mathematical functions, such as logatrithms.  You can see the full list of mathematical functions introduced by NumPy here: [https://numpy.org/doc/stable/reference/routines.math.html](https://numpy.org/doc/stable/reference/routines.math.html)\n",
    "There are a **lot** of different kinds of functions that NumPy adds beyond basic mathematical functions, but these are for another day!\n",
    "\n",
    "NumPy is what we call a Python module.  It is like a collection or *library* of functions that you can load in when you need them.  Matplotlib is another example of a module we have already used that provided us with the `plot()` function.  Modules will allow you to really extend the functionality of Python to help you achieve your goals.\n",
    "\n",
    "Here are some important and useful modules* you should check out:\n",
    "- NumPy - numerical computing - [https://numpy.org/](https://numpy.org/) \n",
    "- Matplotlib- graphing and data visualization - [https://matplotlib.org/](https://matplotlib.org/) \n",
    "- Pandas - data manimpulation and analysis - [https://pandas.pydata.org/](https://pandas.pydata.org/) \n",
    "- SymPy - symbolic math - [https://www.sympy.org/en/index.html](https://www.sympy.org/en/index.html) \n",
    "- GeoPandas - mapping & geospatial data - [https://geopandas.org/index.html](https://geopandas.org/index.html)\n",
    "\n",
    "Numpy for Matlab users: [https://numpy.org/doc/stable/user/numpy-for-matlab-users.html](https://numpy.org/doc/stable/user/numpy-for-matlab-users.html)\n",
    "\n",
    "(*Note: some of these are actually Python __packages__ which are collections of modules.*)\n",
    "\n",
    "While we have used the `pylab` command to load the NumPy and Matplotlib libraries for us.  We have done this for simplicity up to this point.  In general, however, the better approach is to load the specific modules that you will need for any specific coding you will do.  There are sevearl ways to load modules into your Python workspace.  The most common of these loads a module and assigns it a name that you can then use to refer to it.\n",
    "\n",
    "### import *module_name* as *assigned_name* \n",
    "\n",
    "*imports a module called __module_name__ and assigns it to __assigned_name__*\n",
    "\n",
    "If you have installed the Anaconda distribution of Python, all of the above modules (except GeoPandas) have already been installed on your computer and can be imported to your Python work session.  For example, the code cell below will load the NumPy module and assing it to `np`:"
   ]
  },
  {
   "cell_type": "code",
   "execution_count": null,
   "metadata": {},
   "outputs": [],
   "source": [
    "import numpy as np"
   ]
  },
  {
   "cell_type": "markdown",
   "metadata": {},
   "source": [
    "It doesn't look like much happened, but in reality the NumPy module is now loaded and the functions it contains can be used.  However, when you load a module this way, you must tell Python that you want to use the functions within that module. (Note: if you use only `import numpy` and leave off the *'as np'* part, it is the same as using `import numpy as numpy`)\n",
    "\n",
    "In the code cell above you imported NumPy *as* np.  This means that you must now tell Python to look in *np* for the function you want to use.  You do this by using the following syntax:\n",
    "\n",
    "#### modulename.functionname\n",
    "\n",
    "For example, say you want to calculate sin(pi/2), then you must specify that you want to use the sin function in the np module by typing:"
   ]
  },
  {
   "cell_type": "code",
   "execution_count": null,
   "metadata": {},
   "outputs": [],
   "source": [
    "np.sin(pi/2)"
   ]
  },
  {
   "cell_type": "markdown",
   "metadata": {},
   "source": [
    "You will recall that earlier you did not need to do this, you just typed:"
   ]
  },
  {
   "cell_type": "code",
   "execution_count": null,
   "metadata": {},
   "outputs": [],
   "source": [
    "sin(pi/2)"
   ]
  },
  {
   "cell_type": "markdown",
   "metadata": {},
   "source": [
    "So why the difference and why do both function calls work?\n",
    "The reason is because when you ran Pylab at the start of this tutorial, it imported modules in a slightly different way where it loads all of the functions directly into the workspace rather than assigning them to a module.  \n",
    "\n",
    "To import the functions of a module directly into the workspace use:\n",
    "#### from <i>modulename</i> import <i>function</i>\n",
    "\n",
    "This command will import only the specific function you want to use from a module instead of loading *all* the functions from the module.  When you do this, the functions will be available in the workspace without having to specify the module name, i.e., you can use sin(x) rather than np.sin(x).\n",
    "\n",
    "If you wish to import *all* of the functions from the module into the workspace and call them using only the function name (i.e., not specifying the module that they came from) then replace the function name with a star (*) like this:\n",
    "\n",
    "#### from <i>modulename</i> import <i>*</i>\n",
    "\n",
    "This is effectively what `Pylab` did when we used that command at the beginning of this tutorial.\n",
    "\n",
    "To make sure that you understand the differences in how these different ways of importing a module will work, let's run through some examples.  Since we have already loaded some modules using `pylab` at the beginning of this tutorial, we will need to first reset the Python kernel before you move forward.  To do this, select __Restart & Clear Output__ from Jupyter's __Kernel__ menu item above.  After you have completed this step, try predicting what will happen before you run each of the code cells below."
   ]
  },
  {
   "cell_type": "code",
   "execution_count": null,
   "metadata": {},
   "outputs": [],
   "source": [
    "sin(10)"
   ]
  },
  {
   "cell_type": "code",
   "execution_count": null,
   "metadata": {},
   "outputs": [],
   "source": [
    "np.sin(10)"
   ]
  },
  {
   "cell_type": "code",
   "execution_count": null,
   "metadata": {},
   "outputs": [],
   "source": [
    "cos(10)"
   ]
  },
  {
   "cell_type": "markdown",
   "metadata": {},
   "source": [
    "You should have found that each of the three commands above created an error because standard Python does not include trigonmetric functions."
   ]
  },
  {
   "cell_type": "code",
   "execution_count": null,
   "metadata": {},
   "outputs": [],
   "source": [
    "import numpy as np"
   ]
  },
  {
   "cell_type": "code",
   "execution_count": null,
   "metadata": {},
   "outputs": [],
   "source": [
    "sin(10)"
   ]
  },
  {
   "cell_type": "code",
   "execution_count": null,
   "metadata": {},
   "outputs": [],
   "source": [
    "np.sin(10)"
   ]
  },
  {
   "cell_type": "code",
   "execution_count": null,
   "metadata": {},
   "outputs": [],
   "source": [
    "cos(10)"
   ]
  },
  {
   "cell_type": "markdown",
   "metadata": {},
   "source": [
    "In this case, the command np.sin(10) worked because you have loaded the NumPy module and given it the alias np, so you have to tell Python to look inside of np to find the sin function."
   ]
  },
  {
   "cell_type": "code",
   "execution_count": null,
   "metadata": {},
   "outputs": [],
   "source": [
    "from numpy import sin"
   ]
  },
  {
   "cell_type": "code",
   "execution_count": null,
   "metadata": {},
   "outputs": [],
   "source": [
    "sin(10)"
   ]
  },
  {
   "cell_type": "code",
   "execution_count": null,
   "metadata": {},
   "outputs": [],
   "source": [
    "np.sin(10)"
   ]
  },
  {
   "cell_type": "code",
   "execution_count": null,
   "metadata": {},
   "outputs": [],
   "source": [
    "cos(10)"
   ]
  },
  {
   "cell_type": "markdown",
   "metadata": {},
   "source": [
    "In this case, the sin(10) command worked because you specifically loaded the sin() command from NumPy into the current workspace.  The cos(10) command fails because you have not loaded that command directly into the workspace.  Note, however, that the np.cos(10) command will work since you loaded all of the NumPy functions as np."
   ]
  },
  {
   "cell_type": "code",
   "execution_count": null,
   "metadata": {},
   "outputs": [],
   "source": [
    "from numpy import *"
   ]
  },
  {
   "cell_type": "code",
   "execution_count": null,
   "metadata": {},
   "outputs": [],
   "source": [
    "sin(10)"
   ]
  },
  {
   "cell_type": "code",
   "execution_count": null,
   "metadata": {},
   "outputs": [],
   "source": [
    "np.sin(10)"
   ]
  },
  {
   "cell_type": "code",
   "execution_count": null,
   "metadata": {},
   "outputs": [],
   "source": [
    "cos(10)"
   ]
  },
  {
   "cell_type": "markdown",
   "metadata": {},
   "source": [
    "Now the cos(10) command works because you have loaded *all* of the NumPy module functions directly into the Python workspace.  Obviously, you do not ever want to do *both* the `import numpy as np` __and__ the `from numpy import *` commands as then you will have loaded all of the NumPy functions twice.  As noted earlier, in general you want to always try and load a module using an alias (i.e., `import modulename as modulealias`) just in case you happen to have different functions that have the same name from two different modules.  If you imported both modules into the Python workspace directly, you would end up overwriting one of these functions and you might then have a situation where your program does not work. \n",
    "\n",
    "In future tutorials, we will import the modules we need directly rather than relying on the `Pylab` command to do it for us.  Let's try a quick example to see how this would work in practice by plotting the function $y=x^2$\n",
    "To begin, let's reset the kernel again by selecting *Restart & Clear Output* from the *Kernel* menu."
   ]
  },
  {
   "cell_type": "code",
   "execution_count": null,
   "metadata": {},
   "outputs": [],
   "source": [
    "#after resetting the kernel, basic Python won't know any array or plotting functions\n",
    "import numpy as np              #load numerical python functions\n",
    "import matplotlib.pyplot as plt #load the pyplot module from the matplotlib package   \n",
    "\n",
    "#now all of our numerical and plotting functions have been created\n",
    "\n",
    "#create an array of x values to use for the plot:\n",
    "x = np.arange(0,10)  #note that we need to specify that the arange function is in the np module\n",
    "\n",
    "#plot the desired function:\n",
    "plt.plot(x, x**2,'.-')"
   ]
  },
  {
   "cell_type": "markdown",
   "metadata": {},
   "source": [
    "Your turn!  Reset the kernel and try plotting the function $y = sin(x)*sin(x/2)$ between the values -30 and 30 (make sure to choose an appropriate spacing!)."
   ]
  },
  {
   "cell_type": "code",
   "execution_count": null,
   "metadata": {},
   "outputs": [],
   "source": []
  },
  {
   "cell_type": "markdown",
   "metadata": {},
   "source": []
  }
 ],
 "metadata": {
  "kernelspec": {
   "display_name": "Python 3",
   "language": "python",
   "name": "python3"
  },
  "language_info": {
   "codemirror_mode": {
    "name": "ipython",
    "version": 3
   },
   "file_extension": ".py",
   "mimetype": "text/x-python",
   "name": "python",
   "nbconvert_exporter": "python",
   "pygments_lexer": "ipython3",
   "version": "3.7.1"
  }
 },
 "nbformat": 4,
 "nbformat_minor": 2
}
