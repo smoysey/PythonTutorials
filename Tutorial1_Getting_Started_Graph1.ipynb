{
 "cells": [
  {
   "cell_type": "markdown",
   "metadata": {},
   "source": [
    "# Practical Python for Scientists and Engineers\n",
    "\n",
    "Welcome!  The goal of these tutorials is to help you get familiar with basic aspects of Python that will allow you to be more productive in everyday work.  We will work on skills that will let you graph, manipulate, and manage data.  Our goal will be to take things one step at a time, learning only what is needed to accomplish a specific task.  The philosophy behind these tutorials is learning by doing, rather than learning to let you do something later.  Hopefully you will start learning tools right from day one that will be useful in other settings.  By the end of these tutorials, you will be able to make complicated applications that load and save data to and from files, manipulate data, run numerical simulations, make complex visualizations and more!  "
   ]
  },
  {
   "cell_type": "markdown",
   "metadata": {},
   "source": [
    "## Tutorial 1: Getting Started\n",
    "The goal of this tutorial is to make a basic graph.  \n",
    "The steps that you will need to take to do this are:\n",
    " - Overview of a Jupyter notebook\n",
    " - Quick introduction to Python modules\n",
    " - Introduction to lists and arrays\n",
    " - Making a basic plot\n",
    " \n",
    " \n",
    "### Summary of what you will learn in this tutorial:\n",
    "In this tutorial you will learn the following commands:\n",
    "* `pylab` - loads a special set of modules with tools you will want to use (e.g., NumPy and matplotlib)\n",
    "* [... , ... , ... ] - use square brackets to create a list of objects, such as numbers or text strings\n",
    "* array() - convert a list of numbers to an array, which can then be used to do mathematical operations\n",
    "* plot() - use to create a line plot of x values versus y values (x and y can be lists or arrays)\n",
    "* xlabel() and ylabel() - use to add axis titles to your figure\n",
    "* title() - use to add a title to your figure\n",
    " \n",
    "*** \n",
    " \n",
    "### Step 1: Overview of a Jupyter notebook\n",
    "Congratulations!  If you are reading this, you have already opened a Jupyter notebook.  While Python can be run in a lot of different ways, we are going to start here using notebooks to make things easier and allow us to go step by step.  Later on we will try running Python using some other interfaces or directly from your computer's command line.\n",
    "\n",
    "As you can see, Jupyter notebooks run in your web browser.  You may have noticed that a console window may have also opened when you started Jupyter.  This is actually a little server running on your computer that does the interfacing between what you type here and the Python interpreter on your computer (i.e., the thing that actually does the work).  \n",
    "\n",
    "As we move through this tutorial, you will see cells like this that are filled with text and other cells that contain Python code that will be run.  The boxes filled with text are called _markdown_ cells and are used to communicate information.  You can use special codes in markdown boxes to format the text however you like.  You can learn more about the special codes used for formatting [at this website](https://docs.github.com/en/github/writing-on-github/basic-writing-and-formatting-syntax).  Our goal right now, however, is to learn to code and not to write in a Jupyter notebook, so don't worry too much about that.  \n",
    "\n",
    "The other boxes you will see are called _code_ cells.  These contain actual Python commands that can be executed to make something happen.  For example, immediately below this text is a code cell that contains the text:\n",
    "\n",
    "`print(\"Welcome to Python!\")`"
   ]
  },
  {
   "cell_type": "code",
   "execution_count": 1,
   "metadata": {},
   "outputs": [
    {
     "name": "stdout",
     "output_type": "stream",
     "text": [
      "Welcome to Python!\n"
     ]
    }
   ],
   "source": [
    "print(\"Welcome to Python!\") "
   ]
  },
  {
   "cell_type": "markdown",
   "metadata": {},
   "source": [
    "You can execute the code in one of these cells in several ways.  The most useful right now are:\n",
    "* push the Run button in the command ribbon (i.e., icons right below the menu bar) to execute all cells in the notebook\n",
    "* push [control]+[enter] to execute the current code cell (your cursor must be in that cell)\n",
    "\n",
    "Go ahead and use your mouse to put your cursor in the code cell above and run it.  You should see a message (i.e., the output of the command) displayed beneath the cell.\n",
    "\n",
    "You can create new cells using the _Insert_ menu item.  You can change a cell from being _markdown_ to _code_ and vice versa by using the dropdown menu in the command ribbon.\n",
    "\n",
    "Use the _File>Save_ menu option to save your notebook.  You can then share your notebook with someone else and they will be able to see exactly how you did something.  By default, you notebook files should be stored in your root user directory.  In Windows this should be something like: \n",
    "> C:\\Users\\username\n",
    "\n",
    "Make sure to try and use folders to organize your work or else you will end up with a lot of random notebooks in that directory!\n",
    "\n",
    "In addition to being able to run Python code, another really cool part about Jupyter notebooks is that you can \"download\" your notebook as a pdf file that shows all the results of the notebook.  This is a great way to share your work with others if you need to, for example, submit a report!  You could write the entire report in a Jupyter notebook to document very clearly what exactly you did to analyze some data.  \n",
    "\n",
    "Talk about reproducible science!  \n",
    "\n",
    "That is about all that you need to know regarding Jupyter notebooks for right now.  We'll learn some more tricks later on.\n",
    "\n",
    "## Step 2: Quick Introduction to Python Modules\n",
    "There isn't much you need to know here right now other than the most basic version of Python doesn't have all the bells and whistles you would want to make your life easy.  Extra functionality, such as functions for handling numbers in certain ways or making graphs, have to be loaded in seperately as _modules_.  We'll talk more about this later, but for now all that you need to know is that sometimes you will see that I have already added some commands to load a module in a code cell.  You don't need to alter these.  There is a special command that will actually automatically load a whole bunch of modules we might want to use for scientific computing.  This command is `pylab`.  Go ahead and type this in the cell below and then run the cell.   "
   ]
  },
  {
   "cell_type": "code",
   "execution_count": null,
   "metadata": {},
   "outputs": [],
   "source": []
  },
  {
   "cell_type": "markdown",
   "metadata": {},
   "source": [
    "You probably have seen some output that looks something like this:\n",
    "\n",
    "> Out[2] <module 'matplotlib.pylab' from 'C:\\\\ProgramData\\\\Anaconda3\\\\lib\\\\site-packages\\\\matplotlib\\\\pylab.py'>\n",
    "\n",
    "If you saw something else (other than an error) or nothing happened, don't worry unless you start to have errors in the following sections.\n",
    "We will talk a lot more about modules later on, but that's all we need to know for now!\n",
    "\n",
    "## Step 3: Introduction to Lists and Arrays\n",
    "Now we are finally ready to start doing something in Python!  In order to make a plot, our first step is that we will need to enter the actual values that we want to graph.  You can enter numbers directly into a code cell if you want to do a calculation.  For example, say that you wanted to convert a temperature in Fahrenheit to Celsius.  In this case, the conversion is: \n",
    "$T_{Celcius} = (T_{Fahrenheit} - 32) * 5/9$\n",
    "\n",
    "Let's use this formula to convert 70$^{o}$F to Celsius.\n",
    "Enter the following in the code cell below and run the cell:\n",
    "\n",
    "` (70 - 32) * 5/9`"
   ]
  },
  {
   "cell_type": "code",
   "execution_count": null,
   "metadata": {},
   "outputs": [],
   "source": []
  },
  {
   "cell_type": "markdown",
   "metadata": {},
   "source": [
    "Hopefully you found out that 70$^{o}$F is 21.1$^{o}$C!  \n",
    "Now you try.  Insert a code cell below this markup cell and convert -30$^{o}$F to Celcius."
   ]
  },
  {
   "cell_type": "markdown",
   "metadata": {},
   "source": [
    "Yup!  -34.4$^{o}$C is just as cold in Celsius as it is in Fahrenheit!\n",
    "\n",
    "Now let's say that you wanted to convert a whole data set from F to C, which for now will just be three values: -30F, 10F, and 70F.  You certainly wouldn't want to have to type that formula over and over again for each value, especially if your data set contained hundreds or thousands of observations!  We need a way to tell Python that we want to group a set of values, such as our observations, together as one set of numbers.  One way of doing this is called a _list_, which is really just a set of things you want to group together.  Lists in Python can actually be any kind of combination of things, including numbers, text, or even other lists (i.e., a list of lists).  Lists are therefore a very flexible way of grouping sets of related information together.  \n",
    "\n",
    "In Python you create a list by putting a list of numbers in square brackets with each value seperated by a comma. Try entering the following array in the code cell below.\n",
    "\n",
    "`[-30, 10, 70]`\n"
   ]
  },
  {
   "cell_type": "code",
   "execution_count": null,
   "metadata": {},
   "outputs": [],
   "source": []
  },
  {
   "cell_type": "markdown",
   "metadata": {},
   "source": [
    "You should have seen the list echoed back out to you with no errors.\n",
    "Now try converting the values in the list from F to C using the following code:\n",
    "\n",
    "`([-30, 10, 70] - 32)*5/9`\n"
   ]
  },
  {
   "cell_type": "code",
   "execution_count": null,
   "metadata": {},
   "outputs": [],
   "source": []
  },
  {
   "cell_type": "markdown",
   "metadata": {},
   "source": [
    "What happened?  The error you received occured because lists are **so** general that Python doesn't actually know how to do math with them.  For example, if you had a sentence stored in your list (e.g., try entering the code below), how would you do math on that?"
   ]
  },
  {
   "cell_type": "code",
   "execution_count": 2,
   "metadata": {},
   "outputs": [
    {
     "data": {
      "text/plain": [
       "[-10, 'penguins', 105, 'snakes like it hot']"
      ]
     },
     "execution_count": 2,
     "metadata": {},
     "output_type": "execute_result"
    }
   ],
   "source": [
    "#Run this cell (note that you can use a # to indicate comment text in a code cell that Python will ignore)\n",
    "[-10, 'penguins',105,'snakes like it hot']\n",
    "\n",
    "#No errors!  So you can see that lists can contain really different kinds of information, which will be useful later on!"
   ]
  },
  {
   "cell_type": "markdown",
   "metadata": {},
   "source": [
    "We _could_ do math using a list of numbers, but we would literally have to tell Python to use our formula on each number individually (which we will do later, but we don't care about for right now).\n",
    "\n",
    "Alternatively, there is a module called NumPy that introduces a slightly different way of grouping together numbers using something called an _array_.  Arrays are just like lists, but arrays can _**only**_ contain numbers.  One value of arrays is that we can perform a set of operations on the entire set of numbers at one time.  \n",
    "\n",
    "### array() command\n",
    "\n",
    "*Convert lists to arrays using the command: `array()`*\n",
    "\n",
    "For example, do the following things in the three code cells below (we are using three code cells so that you can see the differences in output, but you could do all three commands in one code cell): (1) enter a list of data (i.e., -30, 10, and 70), (2) convert the list to an array, (3) use your formula to convert each of the values in the array from F to C.\n",
    "\n",
    "Note: NumPy is short for Numerical Python.  The `pylab` command loaded that module for us already, so we don't need to talk any more about this for now other than you should remember that arrays require that module in order to work."
   ]
  },
  {
   "cell_type": "code",
   "execution_count": null,
   "metadata": {},
   "outputs": [],
   "source": [
    "[-30, 10, 70]  #this is a list"
   ]
  },
  {
   "cell_type": "code",
   "execution_count": null,
   "metadata": {},
   "outputs": [],
   "source": [
    "array([-30, 10, 70]) #this is now an array"
   ]
  },
  {
   "cell_type": "code",
   "execution_count": null,
   "metadata": {},
   "outputs": [],
   "source": [
    "( array([-30, 10, 70]) - 32)*5/9 #we can perform mathematical operations on each element of an array"
   ]
  },
  {
   "cell_type": "markdown",
   "metadata": {},
   "source": [
    "That's all there is to it!  You now have all of your temperatures converted!  While you might be thinking that it would have been easier to do it one at a time or just use a formula in Excel, imagine if you had hundreds or even millions of values in your data set.  It would not be fun to do that one at a time, but you could do them all once using arrays.\n",
    "\n",
    "In the code cell below, try using arrays to calculate the area of a set of circles with the following radii: 1, 2, 3, 4, 5, 6, 7, 8, 9, 10\n",
    "Note that to raise a number to an exponent in Python you use the notation ** \n",
    "\n",
    "For example, to calculate the value of 3$^{2}$ you would write `3**2` (unlike Excel or Matlab where you would write 3^2)."
   ]
  },
  {
   "cell_type": "code",
   "execution_count": null,
   "metadata": {},
   "outputs": [],
   "source": []
  },
  {
   "cell_type": "markdown",
   "metadata": {},
   "source": [
    "Great!  You are now an expert at using arrays!\n",
    "\n",
    "## Step 4: Making a Graph\n",
    "Our final step in this tutorial is making a basic graph.  Here, we just want to plot a set of numbers representing the x coordinates against a set of values representing the y coordinates.  Basic Python doesn't contain tools for plotting, so we need to use a module called _matplotlib_, but again `pylab` already loaded this for us.\n",
    "\n",
    "So to plot our data, we can simply plot one set of numbers against the other using the plot command.  Yup, it is that easy!\n",
    "\n",
    "### plot(x,y) command\n",
    "*Plot one set of numbers, x, against another set of numbers, y, using the `plot(x,y)` command.  The plot command can take either lists containing numbers or arrays as input.*\n",
    "\n",
    "Let's say we had the following data set:\n",
    "\n",
    "| time (hr) | temperature (F) |\n",
    "|-|-|\n",
    "| 1 | 34 |\n",
    "|7              |  37|\n",
    "11             |  43\n",
    "15             |  60\n",
    "19             |  55\n",
    "23             |  40\n",
    "\n",
    "We can create a plot of the data easily using the following command:\n",
    "\n",
    "`plot([1, 7, 11, 15, 19, 23], [34, 37, 43, 60, 55, 40])`\n",
    "\n",
    "Run the code cell below and observe the result.  Note that the figure may open in a new window!"
   ]
  },
  {
   "cell_type": "code",
   "execution_count": null,
   "metadata": {},
   "outputs": [],
   "source": [
    "plot([1, 7, 11, 15, 19, 23], [34, 37, 43, 60, 55, 40])"
   ]
  },
  {
   "cell_type": "markdown",
   "metadata": {},
   "source": [
    "Congratulations!  Your first plot!\n",
    "Always remember to label your axis.  For this, you can use the xlabel and ylabel commands.\n",
    "\n",
    "You can change the marker and line style of the plot by adding extra codes to the plot command.   \n",
    "These codes are a set of characters arranged in the following order: [color][marker][line]\n",
    "\n",
    "To change colors use the following codes:\n",
    "\n",
    "| character|\tcolor |\n",
    "|-|-|\n",
    "|'b'| blue|\n",
    "'g'\t|green\n",
    "'r'\t|red\n",
    "'c'\t|cyan\n",
    "'m'\t|magenta\n",
    "'y'\t|yellow\n",
    "'k'\t|black\n",
    "'w'\t|white\n",
    "\n",
    "To change the line style use the following codes:\n",
    "\n",
    "| character | description |\n",
    "|-|-|\n",
    "|'-'| solid line style|\n",
    "'--'|\tdashed line style\n",
    "'-.'|\tdash-dot line style\n",
    "':'|\tdotted line style\n",
    "\n",
    "To change the style of the data points use the following codes:\n",
    "\n",
    "| character\t| description |\n",
    "|-|-|\n",
    "'.'|\tpoint marker\n",
    "','|\tpixel marker\n",
    "'o'|\tcircle marker\n",
    "'v'|\ttriangle_down marker\n",
    "'^'|\ttriangle_up marker\n",
    "'<'|\ttriangle_left marker\n",
    "'>'|\ttriangle_right marker\n",
    "'1'|\ttri_down marker\n",
    "'2'|\ttri_up marker\n",
    "'3'|\ttri_left marker\n",
    "'4'|\ttri_right marker\n",
    "'s'|\tsquare marker\n",
    "'p'|\tpentagon marker\n",
    "'*'|\tstar marker\n",
    "'h'|\thexagon1 marker\n",
    "'H'|\thexagon2 marker\n",
    "'+'|\tplus marker\n",
    "'x'|\tx marker\n",
    "'D'|\tdiamond marker\n",
    "'d'|\tthin_diamond marker\n",
    "'|'|\tvline marker\n",
    "'_'|\thline marker\n",
    "\n",
    "So to make a red line with a circle for each data point and a dashed line connecting the data points, you would use a code like this: `'ro--'`\n"
   ]
  },
  {
   "cell_type": "code",
   "execution_count": null,
   "metadata": {},
   "outputs": [],
   "source": [
    "plot([1, 7, 11, 15, 19, 23], [34, 37, 43, 60, 55, 40],'ro:')"
   ]
  },
  {
   "cell_type": "markdown",
   "metadata": {},
   "source": [
    "Note that you can only plot a single color for each marker and line code.\n",
    "\n",
    "To make a plot with blue stars for the data points and a green dashed line connecting them, you would need to plot the data twice using each of these different sets of codes.\n"
   ]
  },
  {
   "cell_type": "code",
   "execution_count": null,
   "metadata": {},
   "outputs": [],
   "source": [
    "plot([1, 7, 11, 15, 19, 23], [34, 37, 43, 60, 55, 40],'b*')\n",
    "plot([1, 7, 11, 15, 19, 23], [34, 37, 43, 60, 55, 40],'g--')"
   ]
  },
  {
   "cell_type": "markdown",
   "metadata": {},
   "source": [
    "Notice that by default graphs will plot on top of each other.  So you may want to close the figure window and try rerunning the cell when you make a formating change to clearly see the effect.\n",
    "\n",
    "\n",
    "### xlabel('text') and ylabel('text')\n",
    "*Use these commands to add axis labels to your plots.  Replace the word text with the actual label you want to use.  Make sure to use quotes as shown above so that Python understands that this is a text string you want to add.\n",
    "\n",
    "Use the code cell below to add axis labels to your figure as follows:\n",
    "\n",
    "```\n",
    "xlabel('time of day (24-hr)')\n",
    "ylabel('temperature (F)')\n",
    "```\n"
   ]
  },
  {
   "cell_type": "code",
   "execution_count": null,
   "metadata": {},
   "outputs": [],
   "source": [
    "xlabel('time of day 24-hr')\n",
    "ylabel('temperature (F)')"
   ]
  },
  {
   "cell_type": "markdown",
   "metadata": {},
   "source": [
    "Finally, you will want to add a plot title to your figure using the `title()` command.\n",
    "\n",
    "### title('text')\n",
    "*Use the title() command to add a text string as the title of your figure."
   ]
  },
  {
   "cell_type": "code",
   "execution_count": null,
   "metadata": {},
   "outputs": [],
   "source": [
    "title('Daily temperature variations')"
   ]
  },
  {
   "cell_type": "markdown",
   "metadata": {},
   "source": [
    "One last tip.  Sometimes you will want your figure to plot inside of your notebook rather than in an external window.  A great example would be when you are writing a report and you want to include the results in a pdf you export for a client or teacher.  In this case, you need to tell Python (actually the matplotlib module) that you want to plot figures _inline_ using the command: `%matplotlib inline`\n",
    "\n",
    "So compare your results above to what you get know repeating the same set of commands (notice that all the commands can be given in a single code cell; we have been breaking them up above for clarity):"
   ]
  },
  {
   "cell_type": "code",
   "execution_count": null,
   "metadata": {},
   "outputs": [],
   "source": [
    "%matplotlib inline\n",
    "\n",
    "plot([1, 7, 11, 15, 19, 23], [34, 37, 43, 60, 55, 40],'b*')\n",
    "plot([1, 7, 11, 15, 19, 23], [34, 37, 43, 60, 55, 40],'g--')\n",
    "xlabel('time of day 24-hr')\n",
    "ylabel('temperature (F)')\n",
    "title('Daily temperature variations')"
   ]
  },
  {
   "cell_type": "markdown",
   "metadata": {},
   "source": [
    "Note that you only have to use the `%matplotlib inline` command once after you start a session and then all figures will plot in your Jupyter notebook.  To switch back to plotting figures in an external window, use the `%matplotlib qt` command.  \n",
    "\n",
    "_**Happy plotting!**_"
   ]
  }
 ],
 "metadata": {
  "kernelspec": {
   "display_name": "Python 3",
   "language": "python",
   "name": "python3"
  },
  "language_info": {
   "codemirror_mode": {
    "name": "ipython",
    "version": 3
   },
   "file_extension": ".py",
   "mimetype": "text/x-python",
   "name": "python",
   "nbconvert_exporter": "python",
   "pygments_lexer": "ipython3",
   "version": "3.8.8"
  }
 },
 "nbformat": 4,
 "nbformat_minor": 4
}
