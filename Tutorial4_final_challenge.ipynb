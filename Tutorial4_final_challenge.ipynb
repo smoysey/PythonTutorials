{
 "cells": [
  {
   "cell_type": "markdown",
   "metadata": {},
   "source": [
    "# Final Challenge Problem for Tutorial 4\n",
    "For ths final challenge you will create a function that will plot a subset of data from a much larger dataset. For this challenge, you will download and work with the following data file containing a record of USGS water level (i.e., stage) observations for the Cape Fear River over the first three months of 2021:\n",
    "   - Download this file: [Tutorial4_lillington2021_stagedata.csv](https://www.dropbox.com/s/kemz5uvqxiv4du0/Tutorial4_lillington2021_stagedata.csv?dl=0)\n",
    "\n",
    "Download the file using the link above and upload it to your local Jupyter server (i.e., just like you would upload a notebook).  *__Note:__ Make sure that when the file opens in Dropbox you choose the option to __Save__ rather than open in Excel.*\n",
    "\n",
    "We have not yet learned how to read data from a file, but for the simple data file you will work with here, we can use the Numpy `genfromtxt()` function.\n",
    "\n",
    "\n",
    "### np.genfromtxt(*source, options*)\n",
    "*This function will allow you to read text data directly into a Numpy array.  You must provide a source for the data (here we will use the name of a file) and specify options for the function.*  \n",
    "\n",
    "In this challenge, the data will come from a comma seperated variable (CSV) text file containing multiple rows of data (you can open the file and look at it on your computer before uploading to the Jupyter server).  The very first row of the file should be a header containing the names of the variables.  Each row should contain one value of x and one value of y for each observation seperated by a comma.  \n",
    "\n",
    "For example, a data file will have this general structure when there are n observations in the data set:  \n",
    "&emsp; xname, yname  \n",
    "&emsp; x1, y1  \n",
    "&emsp; x2, y2  \n",
    "&emsp; x3, y3  \n",
    "&emsp; x4, y4  \n",
    "&emsp; ${\\vdots}$  \n",
    "&emsp; x$_{n}$, y$_n$   \n",
    "\n",
    "\n",
    "You can see how to use the `genfromtxt()` function for the data files below."
   ]
  },
  {
   "cell_type": "code",
   "execution_count": null,
   "metadata": {},
   "outputs": [],
   "source": [
    "#load the data set\n",
    "import numpy as np\n",
    "data = np.genfromtxt('Tutorial4_lillington2021_stagedata.csv', delimiter=',', skip_header=1)\n",
    "\n",
    "print('USEFUL INFORMATION ABOUT THE DATA:')\n",
    "print('There are ',str(data.shape[0]),' observations in the data file.')\n",
    "print('The first observation time in the data set is: ',str(data[0,0]), 'day')\n",
    "print('The last observation time in the data set is: ',str(data[data.shape[0]-1,0]), 'day')\n",
    "print('The amount of time between each observation is: ',str((data[1,0]-data[0,0])*24*60), 'minutes')"
   ]
  },
  {
   "cell_type": "markdown",
   "metadata": {},
   "source": [
    "Now that you have the data loaded as the variable `data`, your goals in this challenge are to create a function that will plot the data for an arbitrary subset of the data.  \n",
    "Your function should have the following inputs:\n",
    "- the variable containing the data set\n",
    "- a text string that specified the name of the river (e.g., \"Cape Fear\") \n",
    "- a text string that specifies the name of the observation station (e.g., \"Lillington\")\n",
    "- the initial observation time for the plot (e.g., t_start)\n",
    "- the final observation time for the plot (e.g., t_end)\n",
    "\n",
    "Your function should produce the following output:\n",
    "- a graph showing only the data for the period between t_start and t_end\n",
    "- a title that includes: the name of the rive, the name of the observation station, and the time (in days) plotted  \n",
    "- appropriate labels for the x and y axis\n",
    "\n",
    "You should call the function in the following way:\n",
    "\n",
    "`usgsplot(data_set, t_start, t_end, sname)`  \n",
    "\n",
    "where:  \n",
    "- data_set is the name of the variable that has the data\n",
    "- t_start is the index value for the first observation to plot\n",
    "- t_end is the index value for the last observation to plot"
   ]
  },
  {
   "cell_type": "code",
   "execution_count": null,
   "metadata": {},
   "outputs": [],
   "source": [
    "import matplotlib.pyplot as plt\n",
    "\n",
    "#create your function here:\n",
    "\n",
    "\n"
   ]
  },
  {
   "cell_type": "markdown",
   "metadata": {},
   "source": [
    "After you have created your function, run the following two code boxes and compare your results to the expected result.  Adjust your function until you are able to make them match without altering the code below."
   ]
  },
  {
   "cell_type": "code",
   "execution_count": null,
   "metadata": {},
   "outputs": [],
   "source": [
    "usgsplot(data,0,1000,'Cape Fear','Lillington')"
   ]
  },
  {
   "cell_type": "code",
   "execution_count": null,
   "metadata": {},
   "outputs": [],
   "source": [
    "usgsplot(data,5000,8591,'Cape Fear','Lillington')"
   ]
  },
  {
   "cell_type": "markdown",
   "metadata": {},
   "source": [
    "Here are the results your function should produce for each of the above two function calls:\n",
    "\n",
    "`usgsplot(data,0,1000,'Cape Fear','Lillington')`  \n",
    "[Expected Results](https://www.dropbox.com/s/n18phzaken5vslm/Tutorial4_finalchallenge1.png?dl=0)\n",
    "\n",
    "\n",
    "`usgsplot(data,5000,8591,'Cape Fear','Lillington')`  \n",
    "[Expected Results](https://www.dropbox.com/s/9nkj51h7h8xpff5/Tutorial4_finalchallenge2.png?dl=0)"
   ]
  },
  {
   "cell_type": "markdown",
   "metadata": {},
   "source": [
    "For a final challenge, download the following two data sets for the USGS stream gauge on the Cape Fear River located at Fayetteville and for the stream gauge located on the Tar River at Greenville.  Use your function to plot the data for the same time periods that you plotted for the Lillington station to allow you to compare the behaviors of these different stations.\n",
    "\n",
    "- Data file for Fayetteville: [Tutorial4_Fayetteville2021_stagedata.csv](https://www.dropbox.com/s/t5bnbk0mt5tusnh/Tutorial4_Fayetteville2021_stagedata.csv?dl=0)\n",
    "- Data file for Tar River at Greenville: [Tutorial4_Greenville2021_stagedata.csv](https://www.dropbox.com/s/eipb999fma2yuzg/Tutorial4_Greenville2021_stagedata.csv?dl=0)\n",
    "\n",
    "\n",
    "Use your function to plot the data sets for each of the two time periods above for all three stations.  For an extra challenge, try to put all three of the data sets on one plot!  [*__Note:__ It is actually pretty easy to do this.  I did not need to change my function at all to produce the expected output below.  It is ok if you choose to put each data set on a seperate graph, but it is great to challenge yourself!  The only extra code that I used to make the expected output that was not already in this Challenge was the `legend()` function!*]\n",
    "\n",
    "- Time period 1: [Expected Results](https://www.dropbox.com/s/h8rw8oohhmy0krn/Tutorial4_finalchallenge3.png?dl=0) \n",
    "- Time period 2: [Expected Results](https://www.dropbox.com/s/nvr7951npt2k96t/Tutorial4_finalchallenge4.png?dl=0) "
   ]
  },
  {
   "cell_type": "code",
   "execution_count": null,
   "metadata": {},
   "outputs": [],
   "source": [
    "#load the data for the Fayetteville and Greenville stations\n",
    "\n",
    "\n",
    "\n",
    "#create a plot with all three stations for time period #1\n",
    "\n",
    "\n"
   ]
  },
  {
   "cell_type": "code",
   "execution_count": null,
   "metadata": {},
   "outputs": [],
   "source": [
    "#create a plot with all three stations for time period #2\n",
    "\n",
    "\n",
    "\n"
   ]
  }
 ],
 "metadata": {
  "kernelspec": {
   "display_name": "Python 3",
   "language": "python",
   "name": "python3"
  },
  "language_info": {
   "codemirror_mode": {
    "name": "ipython",
    "version": 3
   },
   "file_extension": ".py",
   "mimetype": "text/x-python",
   "name": "python",
   "nbconvert_exporter": "python",
   "pygments_lexer": "ipython3",
   "version": "3.8.5"
  }
 },
 "nbformat": 4,
 "nbformat_minor": 4
}
