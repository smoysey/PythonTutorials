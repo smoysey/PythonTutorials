{
 "cells": [
  {
   "cell_type": "markdown",
   "metadata": {},
   "source": [
    "# Practical Python for Scientists and Engineers\n",
    "\n",
    "Welcome!  The goal of these tutorials is to help you get familiar with basic aspects of Python that will allow you to be more productive in everyday work.  We will work on skills that will let you graph, manipulate, and manage data.  Our goal will be to take things one step at a time, learning only what is needed to accomplish a specific task.  The philosophy behind these tutorials is learning by doing, rather than learning to let you do something later.  Hopefully you will start learning tools right from day one that will be useful in other settings.  By the end of these tutorials, you will be able to make complicated applications that load and save data to and from files, manipulate data, run numerical simulations, make complex visualizations and more! "
   ]
  },
  {
   "cell_type": "markdown",
   "metadata": {},
   "source": [
    "## Tutorial 4: Array Indexing - Part 3\n",
    "In this final part of the tutorial, we will see an example of how we might use arrays to help us work with data sets in a more efficient manner.\n",
    "\n",
    "<U>Part 1:</u>\n",
    "- Refresher on Lists and Arrays\n",
    "- Indexing in a One Dimensional Array\n",
    "- Special Functions for Creating One Dimensional Arrays\n",
    "\n",
    "<u>Part 2:</u> \n",
    "- Multidimensional Arrays\n",
    "- Special Array Functions\n",
    "\n",
    "<u><b>Part 3:</b></u>\n",
    "- Using Arrays to Store and Plot Data Sets"
   ]
  },
  {
   "attachments": {},
   "cell_type": "markdown",
   "metadata": {},
   "source": [
    "## Step 1: Using Arrays to Store Data\n",
    "Given that arrays are a great way to oranize numbers and in the two-dimensional case are just a table, they are a great way to store data.  \n",
    "\n",
    "Let's imagine that we performed an experiment where we collected the following data:\n",
    "\n",
    "time |\toutput1\t| output2\n",
    "-----|----------|-------------\n",
    "10 |\t136\t|178\n",
    "20 |208|\t450\n",
    "30|\t382| 962\n",
    "40|\t458|\t1654\n",
    "50|\t515|\t2572\n",
    "\n",
    "We could easily store those results as a two-dimensional array."
   ]
  },
  {
   "cell_type": "code",
   "execution_count": null,
   "metadata": {},
   "outputs": [],
   "source": [
    "#don't forget to import numpy!\n",
    "import numpy as np\n",
    "\n",
    "#create a two dimensional array storing the data:\n",
    "\n",
    "#data =                                               #add your code here (it is ok to delete this comment)\n",
    "\n",
    "print(data)"
   ]
  },
  {
   "cell_type": "code",
   "execution_count": null,
   "metadata": {},
   "outputs": [],
   "source": [
    "#imagine a scenario where you happened to have the data as a single long list of values \n",
    "#(e.g., perhaps you read them in from a file)\n",
    "data2 = [10, 136, 178, 20, 208, 450, 30, 382, 962, 40, 458, 1654, 50, 515, 2572]\n",
    "         \n",
    "#change data2 from a list to an array:\n",
    "data2 = np.array(data2)\n",
    "\n",
    "#we can easily use the array tools we learned before to change this into a two-dimensional matrix:\n",
    "data2 = data2.reshape([5,3])\n",
    "print(data2)"
   ]
  },
  {
   "cell_type": "markdown",
   "metadata": {},
   "source": [
    "The matrix output above should look the same as what you found by entering your own values above."
   ]
  },
  {
   "cell_type": "code",
   "execution_count": null,
   "metadata": {},
   "outputs": [],
   "source": [
    "#note that if the data were read in as columns rather than rows, we would have had the following result instead:\n",
    "data2 = [10, 20, 30, 40 ,50, 136, 208, 382, 458, 515, 178, 450, 962, 1654, 2572]\n",
    "\n",
    "#if we applied the same steps, the result would be slightly different:\n",
    "data2 = np.array(data2)\n",
    "data2 = data2.reshape([5,3])\n",
    "print(data2)"
   ]
  },
  {
   "cell_type": "markdown",
   "metadata": {},
   "source": [
    "Notice that Python is filling the rows first, so our \"time\" values and data are wrapping around to different rows.  You can fix this by simply reshaping the data matrix differently:"
   ]
  },
  {
   "cell_type": "code",
   "execution_count": null,
   "metadata": {},
   "outputs": [],
   "source": [
    "#return the data2 array back to its original shape:\n",
    "data2 = data2.reshape(data2.size)\n",
    "print(data2)\n",
    "\n",
    "#now reshape with 3 rows and 5 columns:\n",
    "data2 = data2.reshape([3,5])\n",
    "print(\"data2 reshaped with 3 rows and 5 columns\")\n",
    "print(data2)"
   ]
  },
  {
   "cell_type": "markdown",
   "metadata": {},
   "source": [
    "This looks better, but is a \"rotated\" version of our data table.  We need to \"rotate\" the table back so that the columns, rather than the rows, hold our time and observation data.  \"Rotating\" a matrix is done with the transpose function, which is easily done with arrays by simply adding a \"T\" to the end of the array as below:"
   ]
  },
  {
   "cell_type": "code",
   "execution_count": null,
   "metadata": {},
   "outputs": [],
   "source": [
    "data2 = data2.T\n",
    "print(data2)\n",
    "#now the result is the same as the table"
   ]
  },
  {
   "cell_type": "markdown",
   "metadata": {},
   "source": [
    "We want to compare the data values to some theoretical best fit lines so that we can see how well the match.  One of these theoretical equations is: $ d = 10*t$ and the other is $d=t^{2}$, where d is the observed data and t is the time when the observation was made.\n",
    "\n",
    "We can use our data table to calculate the values of these models:"
   ]
  },
  {
   "cell_type": "code",
   "execution_count": null,
   "metadata": {},
   "outputs": [],
   "source": [
    "#first let's calculate the values of the models that we want to include in the table:\n",
    "model1 = 10*data2[:,0]  #remember that we just need the t values to use in the formula\n",
    "model2 = data2[:,0]**2\n",
    "\n",
    "print('model1 results:')\n",
    "print(model1)\n",
    "print('model2 results:')\n",
    "print(model2)"
   ]
  },
  {
   "cell_type": "markdown",
   "metadata": {},
   "source": [
    "We could also combine our original data and these model results into one table:"
   ]
  },
  {
   "cell_type": "code",
   "execution_count": null,
   "metadata": {},
   "outputs": [],
   "source": [
    "#Start by creating a new array that can hold all of the observed data and model values.\n",
    "#The original data table had 5 rows and 3 columns.  We are adding 2 new columns (one for each model).\n",
    "#We therefore need to made a new array with 5 rows and 5 columns to store all of the results.\n",
    "dataM = np.zeros([5,5])\n",
    "print('before assigning data to the table:')\n",
    "print(dataM)\n",
    "\n",
    "#next we can assign the data values to the table\n",
    "dataM[:,[0,1,2]] = data2   #note: we could have replaced the list [0,1,2] with the expression 0:3.  Try it! \n",
    "print('after assigning data to the table')\n",
    "print(dataM)\n",
    "\n",
    "#now let's assign the model results to the table:\n",
    "dataM[:,3] = model1\n",
    "dataM[:,4] = model2\n",
    "print('after assigning model output to the table')\n",
    "print(dataM)"
   ]
  },
  {
   "cell_type": "markdown",
   "metadata": {},
   "source": [
    "Now we have all of our data in a format where we can easily access it.  In reality, we did not need to take all of these steps, but the goal in doing so was to illustrate how you might need to bring all of the data together in a format that is easy to use and share.\n",
    "\n",
    "## Step 2: Using Arrays to Graph Data\n",
    "Now that we have all of the data and model results in a table, let's plot them."
   ]
  },
  {
   "cell_type": "code",
   "execution_count": null,
   "metadata": {},
   "outputs": [],
   "source": [
    "#remember, since we want to plot we will need to import matplotlib\n",
    "import matplotlib.pyplot as plt\n",
    "\n",
    "plt.plot(dataM[:,0], dataM[:,1],'.b')\n",
    "plt.plot(dataM[:,0], dataM[:,2],'.r')\n",
    "plt.plot(dataM[:,0], dataM[:,3],'b')\n",
    "plt.plot(dataM[:,0], dataM[:,4],'r')\n",
    "\n",
    "plt.xlabel('Time')\n",
    "plt.ylabel('Observations')m\n",
    "plt.legend(['obs1','obs2','model 1','model 2'])"
   ]
  },
  {
   "cell_type": "markdown",
   "metadata": {},
   "source": [
    "Hopefully this is already making you feel like using arrays is an easy way to make these plots.  \n",
    "<B>But wait - there's more!</b> You don't even need to plot each line seperately!  You can simply pass the entire array in to the plot function!"
   ]
  },
  {
   "cell_type": "code",
   "execution_count": null,
   "metadata": {},
   "outputs": [],
   "source": [
    "plt.plot(dataM[:,0],dataM[:,1:5],'.') #note that you still need to seperate x versus y values!\n",
    "\n",
    "plt.xlabel('Time')\n",
    "plt.ylabel('Observations')\n",
    "plt.legend(['obs1','obs2','model 1','model 2'])"
   ]
  },
  {
   "cell_type": "markdown",
   "metadata": {},
   "source": [
    "While that is super easy, we don't have the ability to make the custom line style choices we made in the first plot.  We can address this problem by creating a function, but we will have to make a few assumptions first. \n",
    "\n",
    "Assumptions:\n",
    "\n",
    "1) we will always have two sets of observation data and two sets of model reults\n",
    "\n",
    "2) the observed data will always be in the second and third column of the array and the model results will always be in the fourth and fifth columns\n",
    "\n",
    "3) we always want the data to be plotted with points and the models to be plotted with a straight line\n",
    "\n",
    "\n",
    "We won't always need to make these assumptions once we get some more programming tools in future tutorials, but for now we must make this assumption."
   ]
  },
  {
   "cell_type": "code",
   "execution_count": null,
   "metadata": {},
   "outputs": [],
   "source": [
    "#define the function:\n",
    "\n",
    "def data_plot(data):\n",
    "    #we are going to plot each data set seperately so that we can set different line styles\n",
    "    plt.plot(data[:,0], data[:,1],'.b')\n",
    "    plt.plot(data[:,0], data[:,2],'.r')\n",
    "    plt.plot(data[:,0], data[:,3],'b')\n",
    "    plt.plot(data[:,0], data[:,4],'r')\n",
    "\n",
    "    plt.xlabel('Time')\n",
    "    plt.ylabel('Observations')\n",
    "    plt.legend(['obs1','obs2','model 1','model 2'])"
   ]
  },
  {
   "cell_type": "markdown",
   "metadata": {},
   "source": [
    "Now that we have created the `data_plot()` function, we can use it with our array."
   ]
  },
  {
   "cell_type": "code",
   "execution_count": null,
   "metadata": {},
   "outputs": [],
   "source": [
    "data_plot(dataM)"
   ]
  },
  {
   "cell_type": "markdown",
   "metadata": {},
   "source": [
    "A perfect plot created with only one command!  (At least after we had made the function.)"
   ]
  }
 ],
 "metadata": {
  "kernelspec": {
   "display_name": "Python 3",
   "language": "python",
   "name": "python3"
  },
  "language_info": {
   "codemirror_mode": {
    "name": "ipython",
    "version": 3
   },
   "file_extension": ".py",
   "mimetype": "text/x-python",
   "name": "python",
   "nbconvert_exporter": "python",
   "pygments_lexer": "ipython3",
   "version": "3.7.1"
  }
 },
 "nbformat": 4,
 "nbformat_minor": 2
}
