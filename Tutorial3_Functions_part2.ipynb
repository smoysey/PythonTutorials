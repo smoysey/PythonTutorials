{
 "cells": [
  {
   "cell_type": "markdown",
   "metadata": {},
   "source": [
    "# Practical Python for Scientists and Engineers\n",
    "\n",
    "Welcome!  The goal of these tutorials is to help you get familiar with basic aspects of Python that will allow you to be more productive in everyday work.  We will work on skills that will let you graph, manipulate, and manage data.  Our goal will be to take things one step at a time, learning only what is needed to accomplish a specific task.  The philosophy behind these tutorials is learning by doing, rather than learning to let you do something later.  Hopefully you will start learning tools right from day one that will be useful in other settings.  By the end of these tutorials, you will be able to make complicated applications that load and save data to and from files, manipulate data, run numerical simulations, make complex visualizations and more! \n",
    "\n",
    "Before we get started, we will load pylab - recall that this command just loads some useful tools for us."
   ]
  },
  {
   "cell_type": "markdown",
   "metadata": {},
   "source": [
    "## Tutorial 3: Functions (Part 2)\n",
    "In part 1 of Tutorial 3, we learned about built-in functions in Python and how we can use modules to extend the functionality of standard Python by loading in many more functions that can help us do things like data anlaysis, mathematical computations, and visualization.  In __Part 2__ of the tutorial, you will learn how to create your own functions.\n",
    "\n",
    "<U>Part 1</u>\n",
    "- basic introduction to using functions\n",
    "- built in Python functions\n",
    "- using Python modules\n",
    "\n",
    "<u>Part 2</u>\n",
    "- creating your own custom functions\n",
    "- creating your own modules to store functions\n",
    "- using global versus local variables\n",
    "\n",
    "\n",
    "### Step 1: Creating your own custom functions\n",
    "It is easy to create your own functions in Python.  You do this using a function definition or `def` statement.  \n",
    "\n",
    "### def <i>function_name</i>(<i>input_arg1, input_arg2, ...</i>):\n",
    "<b>     multiple lines of commands</b><br>\n",
    "<b>     return output_arg1, output_arg2, ...</b>\n",
    "\n",
    "<i>A function definition consists of one or more lines containing the following:\n",
    "- line 1: __def__ keyword followed by the function name, paraentheses containing input arguments, and ending with a colon.  If the function requires input arguments, these should be specified in the parentheses \n",
    "- line 2 to N-1: commands that the function will complete, including definition of variables, calculations, plotting, etc.\n",
    "- line N: __return__ keyword followed by a list of output arguements for the function. \n",
    "</i>\n",
    "\n",
    "While only line 1 is required to create a function, it doesn't really make sense to make a function if it doesn't actually do anything, so you should expect to have at least a few additional lines of code in your function.  Line N is required if your function will return a result.  In this case, you *must* create and use this variable in your function (i.e., on lines 2 to N-1).  In most cases, only variables that follow the __return__ keyword will be output by the function.  Any other variables you have created to store calculations or data within the function will be destroyed and lost from the computer's member once the function ends.\n",
    "\n",
    "Let's try a simple example where we want to create a function to calculate the square of a number or array, $y=x^2$\n",
    "We will name the function *xsquare*."
   ]
  },
  {
   "cell_type": "code",
   "execution_count": null,
   "metadata": {},
   "outputs": [],
   "source": [
    "def xsquare(x):\n",
    "    y=x**2\n",
    "    return y"
   ]
  },
  {
   "cell_type": "markdown",
   "metadata": {},
   "source": [
    "When you run the code block above, it seems like nothing has really happened.  In actuality, the funtion `xsquare()` was created and we can now use it:"
   ]
  },
  {
   "cell_type": "code",
   "execution_count": null,
   "metadata": {},
   "outputs": [],
   "source": [
    "xsquare(4)"
   ]
  },
  {
   "cell_type": "markdown",
   "metadata": {},
   "source": [
    "Notice that in the code cell above we did not assign the output of `xsquare()` to a variable, so the result was just output directly to the screen.  We can, of course, assign the output of our function to a variable."
   ]
  },
  {
   "cell_type": "code",
   "execution_count": null,
   "metadata": {},
   "outputs": [],
   "source": [
    "my_output = xsquare(4)\n",
    "print(my_output)"
   ]
  },
  {
   "cell_type": "markdown",
   "metadata": {},
   "source": [
    "As shown here, there is no need to assign the output of `xsquare()` to the variable `y`, eventhough that is the variable that we used when defining the function.  Also notice that after the function runs, we can no longer access the information that was stored in variable `y`:"
   ]
  },
  {
   "cell_type": "code",
   "execution_count": null,
   "metadata": {},
   "outputs": [],
   "source": [
    "print(y)"
   ]
  },
  {
   "cell_type": "markdown",
   "metadata": {},
   "source": [
    "The error you see above says that *\"name 'y' is not defined\"*.\n",
    "\n",
    "What that means is that y does not exist as a variable that you have created.  What this error shows us is that \"what happens in a function, stays in a function\" (just like Vegas!), unless you explicitly tell Python to output that information using the __return__ keyword.\n",
    "\n",
    "Here is another example of a custom function where you ask a user for their name and that information is used to print out a special string using this information:\n",
    "\n"
   ]
  },
  {
   "cell_type": "code",
   "execution_count": null,
   "metadata": {},
   "outputs": [],
   "source": [
    "#define the function:\n",
    "def hello():\n",
    "    name = input('Enter your name:')\n",
    "    print('Hello ' + name+'! It is nice to meet you!')\n",
    "    \n",
    "#now use the function (note that we don't need to be in a different code cell from where the function was defined) \n",
    "hello()"
   ]
  },
  {
   "cell_type": "markdown",
   "metadata": {},
   "source": [
    "The last example illustrates a couple of interesting things.  First, notice that there are no input arguments or output arguments returned when the function terminates.  Second, in this case the use of the `input()` function provides an alternative way to insert custom information to be used within the function.  A third way to provide information for a function would be to read in data from a file.\n",
    "\n",
    "One last point is that you can verify that there is no output provided by the function and that the `name` variable exists only within the function itself and is destroyed after the function is done running. "
   ]
  },
  {
   "cell_type": "code",
   "execution_count": null,
   "metadata": {},
   "outputs": [],
   "source": [
    "check_output = hello()"
   ]
  },
  {
   "cell_type": "code",
   "execution_count": null,
   "metadata": {},
   "outputs": [],
   "source": [
    "print(check_output)"
   ]
  },
  {
   "cell_type": "code",
   "execution_count": null,
   "metadata": {},
   "outputs": [],
   "source": [
    "print(name)"
   ]
  },
  {
   "cell_type": "markdown",
   "metadata": {},
   "source": [
    "Let's try creating a function that is not quite so basic.  First, let's imagine a case where you want to data from different experiments using the same format for all of your plots.  For this example, let's assume that the data were obtained from three different experiments that produce data following the three following equations:\n",
    "\n",
    "- Experiment #1: $data = 0.5*t$\n",
    "- Experiment #2: $data = t*sin(t/2)$\n",
    "- Experiment #3: $data = 10*t*e^{-t}$\n",
    "\n",
    "where t = observation time and we observed the experiment every minute between 0 and 10 minutes. \n",
    "\n",
    "Before we think about plotting, let's \"create\" our experimental data.\n",
    "\n",
    "<i>(Note: remember that if we are going to be using arrays to store our data and then plot those data, we will need to import the NumPy module and the PyPlot module from Matplotlib.)</i>\n"
   ]
  },
  {
   "cell_type": "code",
   "execution_count": null,
   "metadata": {},
   "outputs": [],
   "source": [
    "#first we need to load the modules that we will use for this problem\n",
    "#it is good practice to import all the modules that you will need as the first step of your code so that\n",
    "#people will know what dependencies are present\n",
    "import numpy as np\n",
    "import matplotlib.pyplot as plt  #pyplot is the module within matplotlib package that contains the plot function\n",
    "\n",
    "#create an array for all of the observation times:\n",
    "t = np.arange(0,10)\n",
    "\n",
    "#create data points we \"observed\" for each experiment:\n",
    "data1 = 0.5*t           #experiment #1\n",
    "data2 = t*np.sin(t/2)   #experiment #2\n",
    "data3 = 10*t*np.exp(-t)    #experiment #3"
   ]
  },
  {
   "cell_type": "markdown",
   "metadata": {},
   "source": [
    "Now that all of our hypothetical data have been created, we can focus on how we want to plot them.  Let's say that for each experiment we want to create a plot that:\n",
    "- plots the data as black dots connected by a green line\n",
    "- has a unique title for the experiment\n",
    "- has the axis labels \"Observation Time (min)\" for x and \"Observed Data\" for y\n"
   ]
  },
  {
   "cell_type": "code",
   "execution_count": null,
   "metadata": {},
   "outputs": [],
   "source": [
    "#remember that we need to tell python to look in plt for the plot function\n",
    "\n",
    "#let's start by plotting the first data set:\n",
    "plt.plot(t,data1,'-g')   #we can't specify the point and line color seperately in the plot function so first we plot the green line\n",
    "plt.plot(t,data1,'ok')   #now we plot the black dots on top of the green line\n",
    "plt.xlabel('Observation Time (min)')  #now we add the axis labels we want for all of the plots\n",
    "plt.ylabel('Observed Data') \n",
    "plt.title('Results from Experiment #1')\n",
    "\n",
    "#next let's plot the second data set:\n",
    "plt.figure()             #we use the figure function here to create a new figure window, otherwise all data would plot on the same graph\n",
    "plt.plot(t,data2,'-g')   #we can't specify the point and line color seperately in the plot function so first we plot the green line\n",
    "plt.plot(t,data2,'ok')   #now we plot the black dots on top of the green line\n",
    "plt.xlabel('Observation Time (min)')  #now we add the axis labels we want for all of the plots\n",
    "plt.ylabel('Observed Data') \n",
    "plt.title('Results from Experiment #2')\n",
    "\n",
    "#next let's plot the third data set:\n",
    "plt.figure()  \n",
    "plt.plot(t,data3,'-g')   #we can't specify the point and line color seperately in the plot function so first we plot the green line\n",
    "plt.plot(t,data3,'ok')   #now we plot the black dots on top of the green line\n",
    "plt.xlabel('Observation Time (min)')  #now we add the axis labels we want for all of the plots\n",
    "plt.ylabel('Observed Data') \n",
    "plt.title('Results from Experiment #3')\n"
   ]
  },
  {
   "cell_type": "markdown",
   "metadata": {},
   "source": [
    "That worked great, but now let's see how we would do it by creating a function to plot our data.  First, we need to think about what inputs will our figure need?  In this example, we need to provide the x and y data series as well as a unique text string for the title.  So our function should have three input arguments, e.g., x, y, and title_text."
   ]
  },
  {
   "cell_type": "code",
   "execution_count": null,
   "metadata": {},
   "outputs": [],
   "source": [
    "def my_plot(x,y,title_text):\n",
    "    plt.figure()  \n",
    "    plt.plot(x,y,'-g')   #we can't specify the point and line color seperately in the plot function so first we plot the green line\n",
    "    plt.plot(x,y,'ok')   #now we plot the black dots on top of the green line\n",
    "    plt.xlabel('Observation Time (min)')  #now we add the axis labels we want for all of the plots\n",
    "    plt.ylabel('Observed Data') \n",
    "    plt.title(title_text)\n"
   ]
  },
  {
   "cell_type": "markdown",
   "metadata": {},
   "source": [
    "Now that you have defined this function, you can simply call it for each data set."
   ]
  },
  {
   "cell_type": "code",
   "execution_count": null,
   "metadata": {
    "scrolled": true
   },
   "outputs": [],
   "source": [
    "my_plot(t,data1,'Experiment #1')\n",
    "my_plot(t,data2,'Experiment #2')\n",
    "my_plot(t,data3,'Experiment #3')"
   ]
  },
  {
   "cell_type": "markdown",
   "metadata": {},
   "source": [
    "We get exactly the same result using only a small fraction of the code!  Plus it is much easier to understand what it is that we are doing with our data when using the function.\n",
    "\n",
    "Using the function has several benefits: \n",
    "- functions often make it easier to read and understand complex code\n",
    "- the amount of code you need to create the graphs is minimal\n",
    "- the chance of errors in your code is less because you only write it once\n",
    "- if you change your mind about a detail of the function you will only need to make the change in one place\n",
    "- if something changed in your data (e.g., you removed outliers) you can rerun your code without making any changes\n",
    "- you can reuse your function over and over again\n"
   ]
  },
  {
   "cell_type": "markdown",
   "metadata": {},
   "source": [
    "Recall that the `info()` function provide details about what a function does.  If we use the `info()` function on our `my_plot()` function we find that it doesn't tell us much - it just says \"None\" because we didn't provide any useful help to let the user know how to use our function.\n",
    "\n",
    "*(Note: The `info()` function is actually part of the NumPy module, so you will need to refer to it as `np.info()` since that is how we have imported NumPy in this tutorial.)*"
   ]
  },
  {
   "cell_type": "code",
   "execution_count": null,
   "metadata": {},
   "outputs": [],
   "source": [
    "np.info(my_plot)"
   ]
  },
  {
   "cell_type": "markdown",
   "metadata": {},
   "source": [
    "There is one additional part of a function that we didn't discuss earlier that is important for giving users (and you!) some help about how to use your function.  You can add text documenting the function by adding a text block surrounded by three sets of quotation marks as shown below:  "
   ]
  },
  {
   "cell_type": "code",
   "execution_count": null,
   "metadata": {},
   "outputs": [],
   "source": [
    "def my_plot(x,y,title_text):\n",
    "    \"\"\"    \n",
    "    Summary: This function plots a set of x versus y experimental data using a custom format.\n",
    "    \n",
    "    Inputs:\n",
    "    -------\n",
    "    x: observation times in the experiment (can be a single value, list, or array of values \n",
    "    y: data observed at each observation time (must be the same size as x)\n",
    "    title_text: a text string containing the text for the title of the plot\n",
    "    \n",
    "    Outputs:\n",
    "    --------\n",
    "    No outputs are provided by this function\n",
    "    \n",
    "    \n",
    "    The my_plot function creates a plot of x versus y with the title given by the string title_text.\n",
    "    The plot will show the data as black dots connected by a green line.  By default the x-axis title is \n",
    "    \"Observation Time (min)\" and the y-axis title is \"Observed Data\".\n",
    "    \n",
    "    The following dependencies exist (these modules must have been loaded for the function to work):\n",
    "      pyplot from matplotlib\n",
    "      numpy\n",
    "    \n",
    "    Function created by S.Moysey, 3/1/2021, v0.1\n",
    "    \"\"\"\n",
    "    plt.figure()  \n",
    "    plt.plot(x,y,'-g')   #we can't specify the point and line color seperately in the plot function so first we plot the green line\n",
    "    plt.plot(x,y,'ok')   #now we plot the black dots on top of the green line\n",
    "    plt.xlabel('Observation Time (min)')  #now we add the axis labels we want for all of the plots\n",
    "    plt.ylabel('Observed Data') \n",
    "    plt.title(title_text)"
   ]
  },
  {
   "cell_type": "code",
   "execution_count": null,
   "metadata": {},
   "outputs": [],
   "source": [
    "np.info(my_plot)"
   ]
  },
  {
   "cell_type": "markdown",
   "metadata": {},
   "source": [
    "It is strongly recommended that you always provide this help information whenever you write a function.  The format above is a good one as it ensure that you communicate:\n",
    "- a quick summary of what the function does\n",
    "- the inputs required for the function to run\n",
    "- the outputs produced by the function\n",
    "- details on how to use the function (in many cases examples are really helpful too!)\n",
    "- dependencies that are required to run the function\n",
    "- who wrote the function, when it was created, and what version of the function it is (especially important as you revise functions over time\n",
    "\n",
    "If you get in the habit of always communicating these things now, you will be much better off in the long run."
   ]
  },
  {
   "cell_type": "markdown",
   "metadata": {},
   "source": [
    "### Step 2: Creating your own modules to store functions\n",
    "It is extremely easy to create your own modules that can store special functions that you use all of the time or are created to accomplish some special purpose (e.g., processing of a specific kind of data).\n",
    "\n",
    "To create a module, all you have to do is simply create a text file that:\n",
    "1. has a filename that ends in .py as in *module_name.py*\n",
    "2. imports any other modules used by the functions in the module you are creating\n",
    "3. contains a definition statement for the function for each function that you want to include in the module (just like we have done throughout this tutorial)  \n",
    "\n",
    "For an example, take a look at the textfile called *my_module.py* that is available for download from this link: [my_module.py](https://www.dropbox.com/s/h8q1bbpm53qe7rh/my_module.py?dl=0)\n",
    "\n",
    "Download the *my_module.py* file to your computer.  Then upload the *my_module.py* file to the Jupyter server just like you uploaded the notebook file you are working in now (i.e., go back to the main Jupyter tab of your browser where you can see the list of your notebooks, then click the upload button and select the *my_module.py* file.)\n"
   ]
  },
  {
   "cell_type": "code",
   "execution_count": null,
   "metadata": {},
   "outputs": [],
   "source": [
    "import my_module as my"
   ]
  },
  {
   "cell_type": "markdown",
   "metadata": {},
   "source": [
    "This custom module contains all of the functions we have written in this tutorial.  You can really see the power of modules here.  If you had previously created the module, you could reproduce everything that we have done in this tutorial with only 5 lines of code (not including creating your experimental data).  \n",
    "\n",
    "Pretty impressive!  "
   ]
  },
  {
   "cell_type": "code",
   "execution_count": null,
   "metadata": {},
   "outputs": [],
   "source": [
    "my.my_plot(t,data1,'Experiment #1')\n",
    "my.my_plot(t,data2,'Experiment #2')\n",
    "my.my_plot(t,data3,'Experiment #3')"
   ]
  },
  {
   "cell_type": "code",
   "execution_count": null,
   "metadata": {},
   "outputs": [],
   "source": [
    "a = my.xsquare(np.array([1,2,3,4]))\n",
    "print(a)"
   ]
  },
  {
   "cell_type": "code",
   "execution_count": null,
   "metadata": {},
   "outputs": [],
   "source": [
    "my.hello()"
   ]
  },
  {
   "cell_type": "markdown",
   "metadata": {},
   "source": [
    "### Step 3: Local versus Global Variables\n",
    "Earlier we said that the variables created within a function are destroyed after the function runs.  This means that these are *local variables* that only 'live' in the scope of the function.  They cannont be accessed anywhere else in the program.  You can change this behavior by using the `global` keyword to make a variable exist outside of the scope of the function. \n",
    "\n",
    "Variables you create in the main workspace can be read within a function even if they are not passed in as input arguments.  However, a function cannot update the value of the variable unless it is declared to be a global variable within the function.\n",
    "\n",
    "Consider the following example in detail to understand how global and local variables act differently."
   ]
  },
  {
   "cell_type": "code",
   "execution_count": null,
   "metadata": {},
   "outputs": [],
   "source": [
    "x = 'test x'  #this variable is defined in the main workspace and can be accessed anywhere in a program (including a function)\n",
    "\n",
    "#define a function that reads and prints x from the main workspace\n",
    "def foo():\n",
    "    print(x)  #this line will print the value of the variable x as read from the main workspace\n",
    "\n",
    "#run the function foo\n",
    "foo()  "
   ]
  },
  {
   "cell_type": "markdown",
   "metadata": {},
   "source": [
    "Note that even though we didn't pass x in to the function as an input argument, the function was still able to read it.\n",
    "\n",
    "See what happens when we now try to change the value of x:"
   ]
  },
  {
   "cell_type": "code",
   "execution_count": null,
   "metadata": {},
   "outputs": [],
   "source": [
    "#define a function that reads and prints x from the main workspace\n",
    "def foo():\n",
    "    print(x)  #this line will print the value of the variable x as read from the main workspace\n",
    "    x = 'updated x'\n",
    "    print(x)\n",
    "    \n",
    "    \n",
    "#run the function foo\n",
    "foo()  "
   ]
  },
  {
   "cell_type": "markdown",
   "metadata": {},
   "source": [
    "We receive an error because the line `x = 'updated x'` actually created a new *local* variable called x within the scope of the function.  So now there are two differnt x variables, one within the foo function (local) and one within the main workspace.  The local variable overrides the global one within the function itself.  \n",
    "\n",
    "The reason we received an error in this case is because Python is smart enough to know that we define a local variable called x within the function, but then when we ran the first `print(x)` command in the function Python says 'wait a minute, you haven't assigned a value to this local variable yet, how can I print the value of x when no value yet exists?'\n",
    "\n",
    "Let's try one more time, but this time removing the first print command:"
   ]
  },
  {
   "cell_type": "code",
   "execution_count": null,
   "metadata": {},
   "outputs": [],
   "source": [
    "def foo():\n",
    "    x = 'updated x'\n",
    "    print(x)\n",
    "       \n",
    "#run the function foo\n",
    "foo()  \n",
    "print(x)"
   ]
  },
  {
   "cell_type": "markdown",
   "metadata": {},
   "source": [
    "In the example above, everything now runs without an error.  You can see though that x has two different values depending on whether we are inside or outside of the function (really this is two different variables both called x).\n",
    "\n",
    "Now let's see what happens if we go back to having the fist `print(x)` command that previously gave us an error, but this time we first tell Python that x is a global variable:"
   ]
  },
  {
   "cell_type": "code",
   "execution_count": null,
   "metadata": {},
   "outputs": [],
   "source": [
    "def foo():\n",
    "    global x\n",
    "    print(x)  #this line will print the value of the variable x as read from the main workspace\n",
    "    x = 'updated x'\n",
    "    print(x)\n",
    "    \n",
    "    \n",
    "#run the function foo\n",
    "foo()  \n",
    "print(x)"
   ]
  },
  {
   "cell_type": "markdown",
   "metadata": {},
   "source": [
    "In this case we didn't get an error.  Though let's dive in to understand what happened.  By making x a global variable, it no longer exists only within the scope of the function.  In other words, the function can read and write to the x variable that exists in the main workspace.  So now when the function runs, the first `print(x)` statement reads the pre-existing value of x in the main workspace.  The line `x = 'updated x'` overwrites the value of x in the main workspace.  The second `print(x)` command in the function again prints the value of x from the main workspace, but this has now been updated to be the text *updated x*.  Finally, after the function is finished running, we use the `print(x)` command outside of the function and we can see that even though the function is long gone, the value of x is still the updated value we set inside of the function.\n",
    "\n",
    "While the use of global variables is handy and sometimes critical, it is best to avoid them as much as possible so that you don't accidentally do something like overwrite your data!  It is a __best practice__ to always try to use input and output arguements to pass information in our out of a function and let all the variables in the function be local variables.  \n",
    "\n",
    "This might be a bit confusing now, but as you continue to get experience in Python you will better understand this issue and will eventually run into cases where the use of global variables is of key importance."
   ]
  },
  {
   "cell_type": "markdown",
   "metadata": {},
   "source": [
    "### Challenge Problem\n",
    "Create your own custom module containing functions that allow you to subtract the average value from an arbitrary data set before plotting the data using a custom format.  \n",
    "\n",
    "You can use the following example dataset:\n",
    "\n",
    "x = 0, 1, 2, 3, 4, 5, 6, 7, 8, 9\n",
    "\n",
    "y = 6.0, 21.6, 22.5, 27.0, 23.8, 30.5, 26.6, 34.2,  38.0  39.3\n",
    "\n"
   ]
  },
  {
   "cell_type": "code",
   "execution_count": null,
   "metadata": {},
   "outputs": [],
   "source": []
  }
 ],
 "metadata": {
  "kernelspec": {
   "display_name": "Python 3",
   "language": "python",
   "name": "python3"
  },
  "language_info": {
   "codemirror_mode": {
    "name": "ipython",
    "version": 3
   },
   "file_extension": ".py",
   "mimetype": "text/x-python",
   "name": "python",
   "nbconvert_exporter": "python",
   "pygments_lexer": "ipython3",
   "version": "3.7.1"
  }
 },
 "nbformat": 4,
 "nbformat_minor": 2
}
