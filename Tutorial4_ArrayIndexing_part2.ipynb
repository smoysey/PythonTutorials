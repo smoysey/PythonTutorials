{
 "cells": [
  {
   "cell_type": "markdown",
   "metadata": {},
   "source": [
    "# Practical Python for Scientists and Engineers\n",
    "\n",
    "Welcome!  The goal of these tutorials is to help you get familiar with basic aspects of Python that will allow you to be more productive in everyday work.  We will work on skills that will let you graph, manipulate, and manage data.  Our goal will be to take things one step at a time, learning only what is needed to accomplish a specific task.  The philosophy behind these tutorials is learning by doing, rather than learning to let you do something later.  Hopefully you will start learning tools right from day one that will be useful in other settings.  By the end of these tutorials, you will be able to make complicated applications that load and save data to and from files, manipulate data, run numerical simulations, make complex visualizations and more! "
   ]
  },
  {
   "cell_type": "markdown",
   "metadata": {},
   "source": [
    "## Tutorial 4: Array Indexing - Part 2\n",
    "Recall that arrays are a way of storing information, much like a table.  In this tutorial we will learn about how to access and/or write information to a particular location within an array (much like finding a particular location in a spreadsheet).\n",
    "\n",
    "In this tutorial, we will learn how to use lists and arrays to store multiple data sets and then use these to effeciently plot the data. \n",
    "\n",
    "<U>Part 1:</u>\n",
    "- Refresher on Lists and Arrays\n",
    "- Indexing in a One Dimensional Array\n",
    "- Special Functions for Creating One Dimensional Arrays\n",
    "\n",
    "<u><b>Part 2:</b></u> \n",
    "- Multidimensional Arrays\n",
    "- Special Array Functions\n",
    "\n",
    "<u>Part 3:</u>\n",
    "- Using Arrays to Store and Plot Data Sets"
   ]
  },
  {
   "cell_type": "markdown",
   "metadata": {},
   "source": [
    "## Step 1: Multidimensional Arrays\n",
    "In Part 1 of this tutorial, you learned how to access and write values to different parts of a linear (one-dimensional) array.  Now we consider the case where we have arrays with more than one dimension.  This occurs in a lot of cases!  For example, imagine that you performed an experiment and collected data for three different samples.  In a case like that, you can store the data in a table (i.e., array of observed data values). Data tables are a very common case where we might want to use a matrix (2-dimensional array) to store information.  \n",
    "\n",
    "To get started, let's imagine that we had a matrix with two rows and two columns as shown below: \n",
    "\n",
    "$x = \\begin{bmatrix} 1 & 2 \\\\ 3 & 4 \\end{bmatrix}$\n",
    "\n",
    "This array has two dimensions (i.e., rows and columns).  The first dimension in this array moves horizontally along the rows.  The second dimension moves vertically down the columns.\n",
    "\n",
    "We can create a matrix like this using the Numpy `np.array()` function where we provide a list of the rows that will go in to making the matrix.  Review the example below and make sure that you understand what is happening.\n",
    "\n"
   ]
  },
  {
   "cell_type": "code",
   "execution_count": null,
   "metadata": {},
   "outputs": [],
   "source": [
    "import numpy as np  #always remember to import Numpy first!\n",
    "\n",
    "#let's start by making an array for each row of the matrix:\n",
    "row1 = np.array([1,2])\n",
    "row2 = np.array([3,4])\n",
    "\n",
    "#now let's combine the two rows into a matrix:\n",
    "x = np.array([row1,row2])\n",
    "\n",
    "print('row1=',row1)\n",
    "print('row2=',row2)\n",
    "print('show my_matrix:')\n",
    "print(x)\n",
    "x   #output my_matrix just to prove that it is an array"
   ]
  },
  {
   "cell_type": "markdown",
   "metadata": {},
   "source": [
    "You can see in the example above that even though we started with two variables each containing one row (and two columns), we were able to combine them into a matrix with two rows and two columns.\n",
    "\n",
    "We can do this directly without first creating the rows as seperate variables:"
   ]
  },
  {
   "cell_type": "code",
   "execution_count": null,
   "metadata": {},
   "outputs": [],
   "source": [
    "x2 = np.array([ [1,2], [3,4]])\n",
    "x2"
   ]
  },
  {
   "cell_type": "markdown",
   "metadata": {},
   "source": [
    "In a matrix (two-dimensional array), we can refer to each location in the matrix using an i,j indexing where i is the row number and j is the column number: x[i,j] refers to the value of matrix x stored in column i and row j.\n",
    "\n",
    "Another way to think of this is to consider the index value at each position of the matrix:\n",
    "\n",
    "$x = \\begin{bmatrix} {x[0,0]} & {x[0,1]} \\\\ {x[1,0]} & {x[1,1]} \\end{bmatrix}$\n",
    "\n",
    "Here you can see that the first number stays the same as move horizontally within a row.  The second number stays the same as you move vertically in a column.\n"
   ]
  },
  {
   "cell_type": "code",
   "execution_count": null,
   "metadata": {},
   "outputs": [],
   "source": [
    "#check the value stored at each position in the matrix and compare to the result of x printed earlier\n",
    "print('The value stored in the first row and first column is: x[0,0]=', x[0,0])  #emember that index values start at 0, not 1 in python\n",
    "print('The value stored in the second row and first column is: x[1,0]=', x[1,0])\n",
    "print('The value stored in the second row and first column is: x[0,1]=', x[0,1])\n",
    "print('The value stored in the second row and first column is: x[1,1]=', x[1,1])"
   ]
  },
  {
   "cell_type": "markdown",
   "metadata": {},
   "source": [
    "Rather than extracting individual values, you can also extact the value of a whole row or column of the matrix using a colon."
   ]
  },
  {
   "cell_type": "code",
   "execution_count": null,
   "metadata": {
    "scrolled": true
   },
   "outputs": [],
   "source": [
    "#compare the results you get with these commands to the matrix above:\n",
    "column1 = x[:,0] #get all rows of the first column\n",
    "column2 = x[:,1] #get all rows of the second column\n",
    "row1 = x[0,:] #get all columns of the first row\n",
    "row2 = x[1,:] #get all columns of the second row\n",
    "\n",
    "print('original matrix:')\n",
    "print(x)\n",
    "print('column1:', column1)\n",
    "print('column2:', column2)\n",
    "print('row1:', row1)\n",
    "print('row2:', row2)"
   ]
  },
  {
   "cell_type": "markdown",
   "metadata": {},
   "source": [
    "### Practice Problem:"
   ]
  },
  {
   "cell_type": "code",
   "execution_count": null,
   "metadata": {},
   "outputs": [],
   "source": [
    "#for the following array:\n",
    "parray = np.array([[5,10,15],[20,25,30],[35,40,45]])\n",
    "print(parray)\n",
    "\n",
    "#print out the following:\n",
    "#1) the value in the center of the array (i.e., 25)\n",
    "\n",
    "\n",
    "\n",
    "#2) the first column of the array\n",
    "\n",
    "\n",
    "#3) the last row of the array"
   ]
  },
  {
   "cell_type": "markdown",
   "metadata": {},
   "source": [
    "#### Assignment Statements\n",
    "Recall that in the last tutorial you learned that you can replace a value in an array using an assignmnent statement."
   ]
  },
  {
   "cell_type": "code",
   "execution_count": null,
   "metadata": {},
   "outputs": [],
   "source": [
    "#create a one-dimensional array:\n",
    "p = [1,2,3,4]\n",
    "print('original: p=',p)\n",
    "#replace the third value (index value 2) with 999:\n",
    "p[2] = 999\n",
    "print('updated: p=',p)"
   ]
  },
  {
   "cell_type": "markdown",
   "metadata": {},
   "source": [
    "The same concept applies for two-dimensional arrays:"
   ]
  },
  {
   "cell_type": "code",
   "execution_count": null,
   "metadata": {},
   "outputs": [],
   "source": [
    "print('current value of x:')\n",
    "print(x)\n",
    "#replace the value 1 in matrix with 100 at position i=0, j=0, i.e., x[0,0]\n",
    "x[0,0] = 100\n",
    "print('updated value of x:')\n",
    "print(x)"
   ]
  },
  {
   "cell_type": "markdown",
   "metadata": {},
   "source": [
    "You can also use the colon notation to replace whole rows or columns:"
   ]
  },
  {
   "cell_type": "code",
   "execution_count": null,
   "metadata": {},
   "outputs": [],
   "source": [
    "#replace whole rows:\n",
    "x[:,1] = [1000, 1000]\n",
    "print('updated rows:')\n",
    "print(x)\n",
    "\n",
    "#replace a column:\n",
    "x[0,:] = [101, 201]\n",
    "print('updated columns:')\n",
    "print(x)"
   ]
  },
  {
   "cell_type": "markdown",
   "metadata": {},
   "source": [
    "Finally, you can access any point in the array using lists of ordered i,j points referencing locations in the matrix.  In other words, you can reference locations in the matrix as `x[i,j]`, but instead of i and j being single values each of these can be a list, where the element at position k in both i and j refer to a single point in the matrix, i.e., x[ i(k), j(k) ] where i(k) is the $k^{th}$ element of the list in the first dimension and j(k) is the $k^{th}$ element of the list in the second dimension.\n",
    "\n",
    "Here is another way of looking at it.  The first spot in the square brackets is where you put in the position information for the first dimension (i.e., rows), whereas the second spot in the square brackets is where you put in the position information for the second dimension (i.e., columns).  If you put in a list for   \n",
    "\n",
    "- x[ *dimension 1*, *dimension 2* ] $\\rightarrow$ x[ i , j ]     `the first spot is used to specify position i along the first dimension (rows) and the second spot specifies position j along the second dimension (columns)`\n",
    "- x[i,j] $\\rightarrow$ x[ i[1,2,3,...k] , j[1,2,3,...,k] ]     `rather than a single pair of values to specify a location in the array (i,j), you can enter a list of values for i and a list of values for j` \n",
    "- [ <b>x</b>[i(1),j(1)], <b>x</b>[i(2),j(2)], <b>x</b>[i(3),j(3)], ..., <b>x</b>[i(k),j(k)] ]  `the outcome is an array that pairs each i(k),j(k) value for the same position k and returns the appropriate x value for this pair`\n",
    "\n",
    "The example below will help to illustrate this point:"
   ]
  },
  {
   "cell_type": "code",
   "execution_count": null,
   "metadata": {},
   "outputs": [],
   "source": [
    "#let's make a new array that is a bit larger:\n",
    "q = np.array([[2, 4, 7, 23],[35, 5, 9, 235], [21, 12, 34, 999], [1999, -32, 643, 0]])\n",
    "\n",
    "print('q:')\n",
    "print(q)\n",
    "\n",
    "#Say we want to get the values stored in the second row and third column (location 1) as well as the value \n",
    "#stored in the fourth row and first column (location 2).  These would be positions i=1, j=2 (or [1,2]) and \n",
    "#i=3,j=0 (or [3,0]), respectively.\n",
    "print('')\n",
    "print('q at location 1: ', q[1,2])\n",
    "print('q at location 2: ', q[3,0])\n",
    "\n",
    "#So we have two values of i and two values of j\n",
    "i = [1,3]  #row position for location 1 and location 2\n",
    "j = [2,0]  #column position for location 1 and location 2\n",
    "\n",
    "#get the values of q at all the positions stored in the lists i and j:\n",
    "q[i,j]"
   ]
  },
  {
   "cell_type": "markdown",
   "metadata": {},
   "source": [
    "You can see in this example that we were able to get both q[1,2] AND q[3,0] at the same time by using the lists i=[1,3] and j=[2,0] to refer to positions in the matrix as q[i,j].\n",
    "\n",
    "Rather than using variables i and j, you could also just do this directly using a list:"
   ]
  },
  {
   "cell_type": "code",
   "execution_count": null,
   "metadata": {},
   "outputs": [],
   "source": [
    "q[ [1,3], [2,0]]"
   ]
  },
  {
   "cell_type": "markdown",
   "metadata": {},
   "source": [
    "Same result!\n",
    "\n",
    "Just as you can extract values from the array at multiple locations this way, you can also assign new values to multiple locations in an array using the same approach. "
   ]
  },
  {
   "cell_type": "code",
   "execution_count": null,
   "metadata": {},
   "outputs": [],
   "source": [
    "#change all the values along the diagonal of the matrix to the value 99999\n",
    "i = [0,1,2,3]\n",
    "\n",
    "q[i,i] = 99999   #notice here that since i=j along the diagonal of the matrix, we could just use i twice!\n",
    "print(q)"
   ]
  },
  {
   "cell_type": "code",
   "execution_count": null,
   "metadata": {},
   "outputs": [],
   "source": [
    "#change the value of each element along the diagonal of the matrix to its row number:\n",
    "q[i,i] = i\n",
    "print(q)\n",
    "\n",
    "#Notice in this case that we have assigned the index values (0 to 3) rather than the row numbers (1 to 4).  \n",
    "#We can correct this by adding 1 to the values stored in i, BUT remember that right now i is a list and you \n",
    "#can't do math with lists.  Instead, change i to an array first and then add 1 to it.\n",
    "\n",
    "q[i,i] = np.array(i)+1\n",
    "print('output q:') \n",
    "print(q)\n",
    "\n",
    "ia = np.array(i)\n",
    "q[ia,ia] = ia + 101  #we add 101 here so that you can see this difference between this case and the case above\n",
    "print('output q:')\n",
    "print(q)\n",
    "\n",
    "print(q[[0,1,3],[3,2,0]])"
   ]
  },
  {
   "cell_type": "markdown",
   "metadata": {},
   "source": [
    "Hopefully from these examples you can see that there is a lot of flexibility here in terms of accessing and changing values in a matrix.  This can be really useful when you are working with data."
   ]
  },
  {
   "cell_type": "markdown",
   "metadata": {},
   "source": [
    "### Challenge Problem #1: \n",
    "Create a matrix with three rows and three columns that contains the numbers 0 to 8 increasing in order first along the rows and assign it to the variable y as shown below:\n",
    "\n",
    "$y = \\begin{bmatrix} 0 & 1 & 2 \\\\ 3 & 4 & 5 \\\\ 6 & 7 & 8  \\end{bmatrix}$\n",
    "\n",
    "Do the following using a single command (not including the print statements to output your result):\n",
    "- print out the value in the second row, first column of y\n",
    "- print out the value in the third row, second column of y\n",
    "- print out the three values in the middle column of y\n",
    "- print out the three values in the bottom row of y\n",
    "- print out the four values in the top right hand corner of y\n",
    "- assign the number 999 to the values in the four corners of the matrix and print out y"
   ]
  },
  {
   "cell_type": "code",
   "execution_count": null,
   "metadata": {},
   "outputs": [],
   "source": []
  },
  {
   "cell_type": "markdown",
   "metadata": {},
   "source": [
    "### Arrays with Higher Dimensions\n",
    "So far we have only considered matrices, which are two dimensional arrays, or in simple terms \"tables\".  In Python, you can have arrays (and lists) that are higher dimensions.  A three dimensional array, for example, can be thought of as a series of matrices - much like a matrix (or table) printed on each page of a book, where the page number is the third dimension.  Likewise, you might think of a four dimensional array as a shelf, where the fourth dimension specifies the number of the book on the shelf.  If you go to a five dimensional array, you could think of the fifth dimension as the number of the shelf \n",
    "\n",
    "x[n,m,l,i,j] $\\leftarrow$ a five-dimension array!\n",
    "\n",
    "*Book analogy for multi-dimensional array indexing:*\n",
    "- n $\\rightarrow$ shelf number where a book can be found \n",
    "- m $\\rightarrow$ position of the book on shelf n\n",
    "- l $\\rightarrow$ page number in book m to turn to\n",
    "- i,j $\\rightarrow$ row and column number to look up in the matrix found on page l of book m\n",
    "\n",
    "You could extend this analogy even further to thinking about how to index the bookcase where the self if found, what room the bookcase is in, what library the room is in, what city the library is in, and so on!  It is probably fairly unlikely that you will need to utilize arrays with more than two or three dimensions very often, but it is good to know that they basicall all work in the same way."
   ]
  },
  {
   "cell_type": "code",
   "execution_count": null,
   "metadata": {},
   "outputs": [],
   "source": [
    "#create a three-dimensional array:\n",
    "d = np.array( [ [[1,2,3], [4,5,6]], [[101,102,103],[104,105,106]] ])\n",
    "d  #output the three-dimensional array d"
   ]
  },
  {
   "cell_type": "markdown",
   "metadata": {},
   "source": [
    "Notice that in the output here you can see what looks like two different two-dimensional arrays.  Each one of these is sometimes called a \"sheet\" (i.e., just like the page in our book).  We made the sheet by using brackets to enclose two lists together.  \n",
    "\n",
    "We can print out each sheet as follows:"
   ]
  },
  {
   "cell_type": "code",
   "execution_count": null,
   "metadata": {},
   "outputs": [],
   "source": [
    "print('sheet 1:')\n",
    "print(d[0,:,:])\n",
    "print('sheet2:')\n",
    "print(d[1,:,:])"
   ]
  },
  {
   "cell_type": "code",
   "execution_count": null,
   "metadata": {},
   "outputs": [],
   "source": [
    "#try printing the middle column from the second sheet below:\n",
    "print(         )    #enter your code inside the bracket for the print statement"
   ]
  },
  {
   "cell_type": "markdown",
   "metadata": {},
   "source": [
    "As you saw in this example, you can create high dimension arrays from \"lists of lists\" using the `array()` function.  What we mean  by this is illustrated in the example below where list3 is composed of list1 and list2, which are themselves composed of multiple elements:\n",
    "\n",
    "<b>list3</b> = [ list1, list2 ] = [ [*list1_item1, list1_item2*], [*list2_item1, list2_item2*] ]\n",
    "\n",
    "You could do this for more \"lists of lists\" stacked within each other.  For example, consider the case:\n",
    "\n",
    "<b>listA</b> = [ list3, list4 ] \n",
    "\n",
    "Where list4 = [ listc, listd], such that:\n",
    "\n",
    "<b>listA</b> = [ [list1, list2], [listc, listd] ] \n",
    "= [ [ [*list1_item1, list1_item2*], [*list2_item1, list2_item2*] ], [ [listc_item1, listc_item2], [listd_item1, listd_item2] ] ]\n",
    "\n",
    "To get to any idividual item within listA, we would need to go down three levels of brackets (i.e., 3 dimensions) into the list. For example, the value *listc_item2* is the *second element of listc*, but listc is itself the *first element of list4*, but list4 is the second element of listA.  \n",
    "\n",
    "\n",
    "In our 3D-array example above, <b>list1</b> = [1,2,3], <b>list2</b> = [4,5,6], so that <b>list3</b> = [ [1,2,3], [4,5,6] ].\n",
    "\n",
    "Likewise, <b>listc</b> = [101,102,103] and <b>listd</b> = [104,105,106], so that <b>list4</b> = [[101,102,103],[104,105,106]]. \n",
    "\n",
    "Finally, <b>listA</b> = [list3, list4] = [ [[1,2,3], [4,5,6]], [[101,102,103],[104,105,106]] ]\n",
    "\n",
    "We created the final array using the command :\n",
    "d = np.array( [ [[1,2,3], [4,5,6]], [[101,102,103],[104,105,106]] ])\n",
    "\n",
    "which in our breakdwon here is equivalent to:\n",
    "d = np.array(<b>listA</b>)\n"
   ]
  },
  {
   "cell_type": "markdown",
   "metadata": {},
   "source": [
    "## Step 2: Special Array Functions\n",
    "There are a variety of functions that can be used to create, learn about, or manipulate arrays.  We will introduce just a couple of them here."
   ]
  },
  {
   "cell_type": "markdown",
   "metadata": {},
   "source": [
    "#### zeros([*N1, N2, N3, ..., Ni, Nj*])       \n",
    "<b>(Numpy function)</b>\n",
    "*Create an array where every element is zero.  The input is an array where values Nx refer to the number of elements in that dimension.  The function can create an array with any number of dimensions.  This function is often used to create an array to store data values by replacing the zeros.*"
   ]
  },
  {
   "cell_type": "code",
   "execution_count": null,
   "metadata": {},
   "outputs": [],
   "source": [
    "#examples:\n",
    "\n",
    "#one-dimensional array of zeros (list not required):\n",
    "print('one-dimension:')\n",
    "print(np.zeros(3))\n",
    "\n",
    "#two-dimensional array of zeros:\n",
    "print('two-dimensions')\n",
    "print(np.zeros([3,2]))   #three rows (Ni=3) and two columns (Nj=2)\n",
    "\n",
    "#three-dimensional array of zeros:\n",
    "print('three-dimensions')\n",
    "print(np.zeros([2,4,3]))  #2 sheets, 4 rows, 3 columns"
   ]
  },
  {
   "cell_type": "markdown",
   "metadata": {},
   "source": [
    "#### len(x)\n",
    "*Returns the number of rows in input array specified by x.*"
   ]
  },
  {
   "cell_type": "code",
   "execution_count": null,
   "metadata": {},
   "outputs": [],
   "source": [
    "#usage examples:\n",
    "print(q)\n",
    "print('the number of rows in q is: ',len(q))\n",
    "\n",
    "print('')\n",
    "print('d:')\n",
    "print(d)\n",
    "len(d)"
   ]
  },
  {
   "cell_type": "markdown",
   "metadata": {},
   "source": [
    "#### x.shape\n",
    "*Returns the length of each dimension of array x.*"
   ]
  },
  {
   "cell_type": "code",
   "execution_count": null,
   "metadata": {},
   "outputs": [],
   "source": [
    "print(q.shape)\n",
    "print('The number of rows in q is: ', q.shape[0])\n",
    "print('The number of columns in q is: ', q.shape[1])\n",
    "\n",
    "print('d:')\n",
    "print(d)\n",
    "print('The number of sheets in d is: ', d.shape[0])\n",
    "print('The number of rows in d is: ', d.shape[1])\n",
    "print('The number of columns in d is: ', d.shape[2])\n",
    "\n",
    "\n",
    "d.shape"
   ]
  },
  {
   "cell_type": "markdown",
   "metadata": {},
   "source": [
    "#### x.size\n",
    "*Returns the total number of elements in array x.*"
   ]
  },
  {
   "cell_type": "code",
   "execution_count": null,
   "metadata": {},
   "outputs": [],
   "source": [
    "print('the total number of elements in q is: ', q.size)\n",
    "print('the total number of elements in d is: ', d.size)\n"
   ]
  },
  {
   "cell_type": "markdown",
   "metadata": {},
   "source": [
    "#### x.reshape([N1,N2,...,Ni,Nj]\n",
    "*Change the number of elements along each dimension of the array to the values given in the input list.  The total number of elements (i.e., size) of the original and reshaped array MUST be the same.* "
   ]
  },
  {
   "cell_type": "code",
   "execution_count": null,
   "metadata": {},
   "outputs": [],
   "source": [
    "print('original x:')\n",
    "print(x)\n",
    "\n",
    "\n",
    "y = x.reshape([4,1]) #reshape into 4 rows and 1 column\n",
    "print('x reshaped into a column:')\n",
    "print(y)\n",
    "\n",
    "y = x.reshape([1,4]) #reshape into 1 row and 4 columns\n",
    "print('x reshaped into a row:')\n",
    "print(y)\n",
    "\n",
    "y = x.reshape([4,1,1]) #reshape into 4 sheets with 1 row and 1 column\n",
    "print('x reshaped into a 3D array:')\n",
    "print(y)\n",
    "\n",
    "y = x.reshape([2,2]) #reshape back to the original array with 2 rows and 2 columns\n",
    "print('x reshaped back to the original matrix:')\n",
    "print(y)\n"
   ]
  },
  {
   "cell_type": "markdown",
   "metadata": {},
   "source": [
    "### Challenge Problem #2\n",
    "Do the following using the special array functions above as much as possible:\n",
    "\n",
    "    1) create an array of zeros with 4 rows and 6 columns and save it to variable y\n",
    "    2) replace the second and fourth rows of y with the numbers 1 to 6 (i.e., the column number)\n",
    "    3) create a linear array of values between 1 and the total number of elements in y and assign it to variable m\n",
    "    4) replace every second element in m starting with the first one with a value of 10\n",
    "    5) reshape m to have the same shape as y\n",
    "    6) print out the result of m+y\n",
    "    \n",
    "The correct result should be:\n",
    "\n",
    "$m+y = \\begin{bmatrix} \n",
    "10 & 2 & 10 & 4 & 10 & 6\\\\ \n",
    "11 & 10 & 13 & 14 & 15 & 18\\\\ \n",
    "10 & 14 & 10 & 16 & 10 & 18\\\\ \n",
    "11 & 22 & 13 & 26 & 15 & 30\\\\ \n",
    "\\end{bmatrix}$"
   ]
  },
  {
   "cell_type": "code",
   "execution_count": null,
   "metadata": {},
   "outputs": [],
   "source": []
  }
 ],
 "metadata": {
  "kernelspec": {
   "display_name": "Python 3",
   "language": "python",
   "name": "python3"
  },
  "language_info": {
   "codemirror_mode": {
    "name": "ipython",
    "version": 3
   },
   "file_extension": ".py",
   "mimetype": "text/x-python",
   "name": "python",
   "nbconvert_exporter": "python",
   "pygments_lexer": "ipython3",
   "version": "3.7.1"
  }
 },
 "nbformat": 4,
 "nbformat_minor": 2
}
