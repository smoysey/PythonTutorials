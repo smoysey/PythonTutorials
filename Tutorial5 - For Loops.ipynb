{
 "cells": [
  {
   "cell_type": "markdown",
   "metadata": {},
   "source": [
    "# Practical Python for Scientists and Engineers\n",
    "\n",
    "Welcome!  The goal of these tutorials is to help you get familiar with basic aspects of Python that will allow you to be more productive in everyday work.  We will work on skills that will let you graph, manipulate, and manage data.  Our goal will be to take things one step at a time, learning only what is needed to accomplish a specific task.  The philosophy behind these tutorials is learning by doing, rather than learning to let you do something later.  Hopefully you will start learning tools right from day one that will be useful in other settings.  By the end of these tutorials, you will be able to make complicated applications that load and save data to and from files, manipulate data, run numerical simulations, make complex visualizations and more! "
   ]
  },
  {
   "cell_type": "markdown",
   "metadata": {},
   "source": [
    "## Tutorial 5: For Loops\n",
    "In this tutorial, we will introduce the concept of loops as a means for repeating an action.  Loops are very useful in many situations, in particular they can be helpful for reading and writing data files or repeating a complex set of procedures multiple times.  \n",
    "\n",
    "By the end of this tutorial you will be able to automate the process of adding multiple datasets to a graph. \n",
    "\n",
    "<U>In this tutorial we will cover:</u>\n",
    "- What are loops?\n",
    "- Using a counter in a loop.\n",
    "- Using loops with Numpy arrays.\n",
    "- Plotting multiple data sets with a for loop.\n",
    "\n",
    "### Step 1: What are loops?\n",
    "Loops are a basic part of every programming language.  They let you repeat an action that would otherwise be repetitive.  For example, imagine that you were performing an analysis of a remote sensing image that required you to count how many pixels in the image were urbanized versus agricultural or forested areas.  You could use a loop to allow you to: (i) visit a pixel in the image, (ii) make a determination of the landuse at that pixel, (iii) record the result, and (iv) move to the next pixel in the image.  By repeating these four commands, it would be possible to visit and classify every pixel in the image.    \n",
    "\n",
    "There are two different ways that this loop could be done.  \n",
    "\n",
    "You could say:  \n",
    "\n",
    "><b>while</b> <i>you have not yet visited every pixel in the image</i>\n",
    "1. choose a pixel that has not yet been classified  \n",
    "2. classify the land use for that pixel  \n",
    "3. record the result in an array  \n",
    "4. repeat  \n",
    "\n",
    "Or you could alternatively say:\n",
    "\n",
    "><b>for</b> <i>pixel 1 to pixel N (where N is the last pixel in the image)</i>\n",
    "1. go to the next pixel in a list of pixels\n",
    "2. classify the land use for that pixel\n",
    "3. record the result in an array\n",
    "4. stop after you classify pixel N\n",
    "\n",
    "While these seem pretty similar, in the first case you don't need to know how many pixels are in the image.  Instead, the desired actions continue being repeated *while* there are still pixels that have yet to be classified.  In contrast, you need to specify all the pixels in the image from the beginning in the second case.  Thus these two cases represent two fundamentally different ways of constructing loops: <b>while loops</b> and <b>for loops</b>.  In this tutorial, we will focus on *for loops*.\n",
    "\n",
    "### for loop  \n",
    "*For loops are used to repeat an action <b>for</b> a fixed number of values.  In Python, for loops progress through a sequence of values provided in a list until the loop has been repeated for each value in the list.  This is a little different from other languages where the loop is controlled by a counter that increments during each iteration.*\n",
    "\n",
    "<u>Structure of a For Loop</u>  \n",
    "To create a for loop you use the keyword <b>`for`</b> followed by: a variable that will be used as a *`counter`*, the keyword <b>`in`</b>, the *`list`* used for iterating, and a colon (<b>:</b>).  The comands that are to be repeated follow the first line as indented code.  It is important to indent the lines below the first one so that Python knows what actions are to be repeated.  \n",
    "\n",
    "><b>for</b> <i>counter</i> <b>in</b> <i>list</i>:  \n",
    "    &nbsp;&nbsp;&nbsp;&nbsp;&nbsp;&nbsp;*commands to be repeated*  (one command per line, must be indented)\n",
    "\n",
    "As the loop progresses, the counter variable will take on a new value from the list after each iteration.\n",
    "\n",
    "Let's examine a simply example:    "
   ]
  },
  {
   "cell_type": "code",
   "execution_count": null,
   "metadata": {},
   "outputs": [],
   "source": [
    "for i in [1,2,3,4]:\n",
    "    print('hello world!')\n",
    "    \n",
    "    \n",
    "print('this line is not repeated because it is not indented and therefore out of the for loop')"
   ]
  },
  {
   "cell_type": "markdown",
   "metadata": {},
   "source": [
    "Since there were four numbers in the list, this for loop just repeated the command `print('hello world!')` four times.  \n",
    "\n",
    "We can see what value the counter variable *i* is taking on by adding an additional print statement:  "
   ]
  },
  {
   "cell_type": "code",
   "execution_count": null,
   "metadata": {},
   "outputs": [],
   "source": [
    "for i in [1,2,3,4]:\n",
    "    print('hello world!')\n",
    "    print(i)\n",
    "print('still not indented and still not repeated!')"
   ]
  },
  {
   "cell_type": "markdown",
   "metadata": {},
   "source": [
    "The result shows that at each iteration, the counter variable *i* takes on a different value from the list."
   ]
  },
  {
   "cell_type": "markdown",
   "metadata": {},
   "source": [
    "#### Challenge Problem 5.1\n",
    "Create a loop that will print out a data table showing the values of $y=x^2$ between 0 and 10.\n",
    "The table should look something like this (but you don't need to print the title):  \n",
    "\n",
    "$x$   |   $x^2$ \n",
    "----|--------\n",
    " 0 | 0\n",
    " 1 | 1\n",
    " 2 | 4\n",
    " 3 | 9\n",
    "4 | 16\n",
    "5 | 25\n",
    "6 | 36\n",
    "7 | 49\n",
    "8 | 64\n",
    "\n"
   ]
  },
  {
   "cell_type": "code",
   "execution_count": null,
   "metadata": {},
   "outputs": [],
   "source": [
    "#add your code here:\n",
    "\n"
   ]
  },
  {
   "cell_type": "markdown",
   "metadata": {},
   "source": [
    "It is notable that the values in the list don't need to be numbers."
   ]
  },
  {
   "cell_type": "code",
   "execution_count": null,
   "metadata": {},
   "outputs": [],
   "source": [
    "for i in ['apple','banana', 'orange','raspberry']:\n",
    "    print('hello world!')"
   ]
  },
  {
   "cell_type": "markdown",
   "metadata": {},
   "source": [
    "In this case we get exactly the same behavior as before even though the values in the list are different.  If we add the second print statement, we can see that the counter takes on each value from the list as we iterate through the loop:  "
   ]
  },
  {
   "cell_type": "code",
   "execution_count": null,
   "metadata": {},
   "outputs": [],
   "source": [
    "for i in ['apple','banana', 'orange','raspberry']:\n",
    "    print('hello world!')\n",
    "    print(i)"
   ]
  },
  {
   "cell_type": "markdown",
   "metadata": {},
   "source": [
    "One of the things that makes loops powerful is that you can use the changing value of the counter within the loop itself.    \n",
    "For example, try to imagine what this loop would do before you run it:"
   ]
  },
  {
   "cell_type": "code",
   "execution_count": null,
   "metadata": {},
   "outputs": [],
   "source": [
    "for i in [1,2,3,4]:\n",
    "    print('hello world! '*i)"
   ]
  },
  {
   "cell_type": "markdown",
   "metadata": {},
   "source": [
    "This is a good example illustrating how the behavior of the loop can be altered by the values given in the list.  Here is another example:"
   ]
  },
  {
   "cell_type": "code",
   "execution_count": null,
   "metadata": {},
   "outputs": [],
   "source": [
    "for i in ['apples','bananas', 'oranges','raspberries']:\n",
    "    print('I like to eat ' + i)"
   ]
  },
  {
   "cell_type": "markdown",
   "metadata": {},
   "source": [
    "This example illustrates how meaningful changes of output can be achieved with a loop, but it isn't that practical to have the data you want to report (like what fruit you like to eat) coded in the loop itself.  \n",
    "\n",
    "We can improve on this by replacing the list in the loop with a variable that represents the list.  We can make our code more general by representing the list with a variable containing the list.  It will then be possible to change the data that is provided to the loop without changing any code in the loop itself.   \n",
    "\n",
    "For example, let's modify what we had in the code cell from above by replacing the list with a variable called *`fruit_list`* containing the actual list with the data:"
   ]
  },
  {
   "cell_type": "code",
   "execution_count": null,
   "metadata": {},
   "outputs": [],
   "source": [
    "fruit_list = ['apples','bananas','oranges','raspberries']\n",
    "\n",
    "for i in fruit_list:\n",
    "    print('I like to eat ' + i)"
   ]
  },
  {
   "cell_type": "markdown",
   "metadata": {},
   "source": [
    "As a next step, let's see how we can now change the data assigned to the variable to change the output of the code without actually modify the code used for the loop:"
   ]
  },
  {
   "cell_type": "code",
   "execution_count": null,
   "metadata": {},
   "outputs": [],
   "source": [
    "#let's change the data in the list:\n",
    "fruit_list = ['pears', 'pineapples', 'mangos','peaches','apricots','blueberries']\n",
    "\n",
    "#now repeat the two lines for the loop from above without making ANY changes (i.e., you can just copy/paste to loop)\n",
    "\n"
   ]
  },
  {
   "cell_type": "markdown",
   "metadata": {},
   "source": [
    "Notice that with exactly the same code you can get a very different output (even a different number of lines printed!) that might reflect the results of two different users.  "
   ]
  },
  {
   "cell_type": "markdown",
   "metadata": {},
   "source": [
    "#### Challenge Problem 5.2:\n",
    "In the example above we ended up having to copy and past the code for the loop.  This is undesirable as it means that if you made an error or want to change something later you would have to find two places in your code that need to be updated.  We have leanred in previous tutorials that you can use functions as a tool for generalizing you code that you might want to use over and over again.  \n",
    "\n",
    "In this challenge problem, you wll modify the code cell below by adding in the appropriate information in a function definition that will allow you to print out the fruit data for two different users without needing to repeat the commands for the loop twice.   \n",
    "\n",
    "When you correctly edit and run the code cell below, your output should look like this:\n",
    "\n",
    "I like to eat apples   \n",
    "I like to eat bananas   \n",
    "I like to eat oranges  \n",
    "I like to eat raspberries  \n",
    "I like to eat pears  \n",
    "I like to eat pineapples  \n",
    "I like to eat mangos  \n",
    "I like to eat peaches  \n",
    "I like to eat apricots  \n",
    "I like to eat blueberries  "
   ]
  },
  {
   "cell_type": "code",
   "execution_count": null,
   "metadata": {
    "scrolled": true
   },
   "outputs": [],
   "source": [
    "#specify each user's data (do not modify these):\n",
    "user1 = ['apples','bananas','oranges','raspberries']\n",
    "user2 = ['pears', 'pineapples', 'mangos','peaches','apricots','blueberries']\n",
    "\n",
    "\n",
    "#define the function:\n",
    "def     (    ):                      #fill in the missing info in this line\n",
    "                                     #add code to this line\n",
    "                                     #add code to this line\n",
    "        \n",
    "#use the function to print out the user data:\n",
    "print_fruit(    )                    #complete the missing info in this line\n",
    "print_fruit(    )                    #complete the missing info in this line"
   ]
  },
  {
   "cell_type": "markdown",
   "metadata": {},
   "source": [
    "### Step 2: Using a counter in a loop.\n",
    "Sometimes you will want to keep track of where you are in the loop by creating a variable that increments during each cycle:"
   ]
  },
  {
   "cell_type": "code",
   "execution_count": null,
   "metadata": {},
   "outputs": [],
   "source": [
    "fruit_list = ['apples','bananas','oranges','raspberries']\n",
    "\n",
    "my_index = 0        #this line initializes the index counter by setting it to zero\n",
    "\n",
    "for i in fruit_list:\n",
    "    print('I like to eat ' + i)\n",
    "    print('my_index = ' + str(my_index)) #this line prints out the current value of the counter\n",
    "    \n",
    "    my_index = my_index + 1   #this line increments the value stored in my_index by 1\n",
    "    \n",
    "    print('item #'+str(my_index)+' is '+i)\n",
    "    print('')  #this line was added to create a space between the print outs for different interations of the loop"
   ]
  },
  {
   "cell_type": "markdown",
   "metadata": {},
   "source": [
    "While the example above illustrates the use of a counter in a loop, it isn't very likely that you will want to simply print out a series of values like this (though it is one application of loops!).  A more practical problem is when you wish to extract a value from an array (or list).\n",
    "\n",
    "Consider our fruit loop above.  Now imagine that we want to print which day of the week we like each fruit.  We could then o something like this:"
   ]
  },
  {
   "cell_type": "code",
   "execution_count": null,
   "metadata": {
    "scrolled": true
   },
   "outputs": [],
   "source": [
    "days = ['Monday', 'Tuesday', 'Wednesday', 'Thursday', 'Friday']\n",
    "fruit_list = ['apples','bananas','oranges','raspberries']\n",
    "\n",
    "my_index = 0\n",
    "\n",
    "for i in fruit_list:\n",
    "    print('I like to eat '+i+' on '+days[my_index])\n",
    "    my_index = my_index + 1"
   ]
  },
  {
   "cell_type": "markdown",
   "metadata": {},
   "source": [
    "In this example, the type of fruit is assigned to the counter *`i`* automatically through each iteration of the loop.  We have no easy way, however, to also cycle through the days of the week, so the counter was needed for this. There are two other ways we could have handled this problem in a different way.\n",
    "\n",
    "First, you could use what you have already learned in this tutorial to restructure the loop so that you proceed through a list of index values in the loop, rather than the actual fruit list as below:"
   ]
  },
  {
   "cell_type": "code",
   "execution_count": null,
   "metadata": {},
   "outputs": [],
   "source": [
    "days = ['Monday', 'Tuesday', 'Wednesday', 'Thursday', 'Friday']\n",
    "fruit_list = ['apples','bananas','oranges','raspberries']\n",
    "\n",
    "for i in [0,1,2,3]:\n",
    "    print('I like to eat '+fruit_list[i]+' on '+days[my_index])"
   ]
  },
  {
   "cell_type": "markdown",
   "metadata": {},
   "source": [
    "In this case, the value of *`i`* cycles through 0, 1, 2, and 3, so we can use it to represent the index value we want to access in the data without needing to use a seperate counter at all.  "
   ]
  },
  {
   "cell_type": "markdown",
   "metadata": {},
   "source": [
    "An alternative approach is the use the `enumerate()` function. \n",
    "\n",
    "## for *count*, *values* in enumerate(*list*):\n",
    "*The `enumerate()` function is only used for loops in Python.  This function will automatically create a loop counter for you to keep track of how many iterations of the loop you have created.  There are therefore two variables availabe in the loop, the first variable (i.e., \"count\" above) stores the value of the counter just like the my_index variable we created earlier.  The second variable (i.e., values) stores the actual data from the list for this iteration.*\n",
    "\n",
    "We can use this approach to replace our counter as shown below.  Note that in this case, we use the counter (here named my_index) just like we did before, we just don't need to initialize and update the value stored in the variable any more since Python is now doing that for us."
   ]
  },
  {
   "cell_type": "code",
   "execution_count": null,
   "metadata": {},
   "outputs": [],
   "source": [
    "days = ['Monday', 'Tuesday', 'Wednesday', 'Thursday', 'Friday']\n",
    "fruit_list = ['apples','bananas','oranges','raspberries']\n",
    "\n",
    "for my_index,i in enumerate(fruit_list):\n",
    "    print('I like to eat '+i+' on '+days[my_index])"
   ]
  },
  {
   "cell_type": "markdown",
   "metadata": {},
   "source": [
    "There is one very important advantage of this approach.  Notice that nowhere do we specify the number of items in the list!  This makes our loop much more general since we can run our code with any number of items representing different data sets and it will still work great.  Let's see this in action by putting the loop into a function and then playing around with it a bit:"
   ]
  },
  {
   "cell_type": "code",
   "execution_count": null,
   "metadata": {},
   "outputs": [],
   "source": [
    "#define the function:\n",
    "def eatprint(input1, input2):\n",
    "    for my_index,i in enumerate(input1):            \n",
    "        print('I like to eat '+i+' on '+input2[my_index])\n",
    "        \n",
    "        #Note: The lines in the loop are identical to those above other than \n",
    "        #replacing \"fruit_list\" with \"input1\" and \"days\" with \"input2\".  We actually did not\n",
    "        #need to do this as the variables defined within a function are distinct from those \n",
    "        #outside of it, but I did so here to emphasize the fact that variables inside and\n",
    "        #outside of a function are distinct from each other (though it is still possible to \n",
    "        #reference a variable outside of the function from within a function, so be careful)"
   ]
  },
  {
   "cell_type": "code",
   "execution_count": null,
   "metadata": {},
   "outputs": [],
   "source": [
    "days = ['Monday', 'Tuesday', 'Wednesday', 'Thursday', 'Friday']\n",
    "fruit_list = ['apples','bananas','oranges','raspberries']\n",
    "\n",
    "eatprint(fruit_list,days)"
   ]
  },
  {
   "cell_type": "markdown",
   "metadata": {},
   "source": [
    "The function works just like the loop above, which is great!  We can now use it for different kinds of data:"
   ]
  },
  {
   "cell_type": "code",
   "execution_count": null,
   "metadata": {},
   "outputs": [],
   "source": [
    "eatprint(['hamburgers', 'french fries'], ['an airplane','France'])"
   ]
  },
  {
   "cell_type": "code",
   "execution_count": null,
   "metadata": {},
   "outputs": [],
   "source": [
    "eatprint(['with friends'],['a regular basis!'])"
   ]
  },
  {
   "cell_type": "markdown",
   "metadata": {},
   "source": [
    "Lots of ways that we can use the function!  Let's try something silly and interchange days with fruit_list.  Before running the code cell below, predict what the output will look like."
   ]
  },
  {
   "cell_type": "code",
   "execution_count": null,
   "metadata": {},
   "outputs": [],
   "source": [
    "eatprint(days,fruit_list)"
   ]
  },
  {
   "cell_type": "markdown",
   "metadata": {},
   "source": [
    "The output was printed as you probably expected it to (with the days and fruit in reversed position in the sentence).  But why did we now get an error when the function was working great before and we got our expected output?\n",
    "\n",
    "The *'list index out of range'* comment gives us a clue.  Let's take a careful look at how our function runs by breaking it down line by line.\n",
    "\n",
    "`def eatprint(input1, input2):`  This line defines the function and input arguments.  \n",
    "> `    for my_index,i in enumerate(input1):`   \n",
    "Here we start the loop using the variable `input1` - this is important!  \n",
    "> >`        print('I like to eat '+i+' on '+input2[my_index])`  \n",
    "Finally, we ask for the value of `input2` at the current value of my_index.\n",
    "\n",
    "\n",
    "Since we called the function with `days`, which includes 5 items, as `input1` and `fruit_list`, which only includes 4 items, as `input2`, we can now begin to understand the problem. \n",
    "\n",
    "When we call the function as: `eatprint(fruit_list,days)` we have a situation where `input1` only has 4 values, so the loop can only run 4 times.  If we examine the output from where we first made this function call above, we can see that the final item in the `days` list (i.e., Friday) was never used.\n",
    "\n",
    "In contrast, when we call the function as: `eatprint(days, fruit_list)` we have a situation where the loop is iterating over the elements of `days` (since it is input1).  Given that there are 5 items in this list, the loop will iterate over values for `my_index` of 0, 1, 2, 3, and 4.  For the first four times through the loop, i.e., my_index = 0, 1, 2, 3, we have no problems at all because `fruit_list` has four items.  For the final time through the loop, however, my_index = 4 yet there is no value of `fruit_list` at that index position since the list only has 4 items, thus the *list index out of range* statement given by Python.\n",
    "\n",
    "\n",
    "\n",
    "There are a couple of reasons that we took a detailed look at this example:\n",
    "1. It is important to realize that the commands within a loop are completed independently for each iteration of the loop.  There is no advance check to make sure that the loop makes sense for all of values of the list you used to create it.  For example, in our problem above you saw that the output was printed for the first four iterations of the loop and an error didn't occur until the fifth time through the loop.  This can sometimes make it hard to find problems in the code if you are just using a small subset of data to test it.\n",
    "2. Always remember to be thinking about what the value of the counter is when you are referencing index positions in an array or list.  This become increasingly complicated (and confusing) when you go to higher array dimensions (e.g., a data table or 3D volume of data).    \n",
    "3. It is a good idea to always use arrays (or lists) that have the same size of data if your intent is to loop through all values.  There are cases, however, where this might now apply (e.g., if you are referencing values from a large data set)."
   ]
  },
  {
   "cell_type": "markdown",
   "metadata": {},
   "source": [
    "### Step 3: Using loops with Numpy arrays.\n",
    "Let's switch to an example where we are working with numerical data in arrays.  Notice that everything that we have done so far with loops and lists is all part of standard Python, so we will still have to import Numpy to use arrays.\n",
    "\n",
    "We will start with a simple 1-dimensional arrays:"
   ]
  },
  {
   "cell_type": "code",
   "execution_count": null,
   "metadata": {},
   "outputs": [],
   "source": [
    "a = np.array([2, 3, 13, 1, 93, 2, 1, 10])\n",
    "print('a=')\n",
    "print(a)\n",
    "\n",
    "b = np.r_[0:8:1]\n",
    "print('b=')\n",
    "print(b)"
   ]
  },
  {
   "cell_type": "markdown",
   "metadata": {},
   "source": [
    "Consider the simple case where we wanted to find the product of the values in the two arrays:"
   ]
  },
  {
   "cell_type": "code",
   "execution_count": null,
   "metadata": {},
   "outputs": [],
   "source": [
    "c = np.zeros(a.shape)           #define an array to store the calculated values\n",
    "for ind,value in enumerate(a):  #set up the loop to go through each element of a\n",
    "    c[ind] = value*b[ind]       #for each iteration, get the value of b at ind and assign the product to c at position ind\n",
    "    \n",
    "print('Here is the result:')\n",
    "print(c)\n"
   ]
  },
  {
   "cell_type": "markdown",
   "metadata": {},
   "source": [
    "You can see that the final result of c is the indeed the product of the elements of a and b.\n",
    "Remember, that the beauty of using Numpy arrays is that we don't actually have to do that kind of looping because Numpy does it for us automatically.  In other words, for arrays we can just type:"
   ]
  },
  {
   "cell_type": "code",
   "execution_count": null,
   "metadata": {},
   "outputs": [],
   "source": [
    "c2 = a*b\n",
    "\n",
    "print('Here is the result from numpy:')\n",
    "print(c2)"
   ]
  },
  {
   "cell_type": "markdown",
   "metadata": {},
   "source": [
    "Exactly the same, but a lot easier to type and understand using arrays!  Avoiding loops for basic operations is exactly the point of using Numpy arrays to make things easier for us.  \n",
    "\n",
    "In general, you should try to find ways to use Numpy array functions rather than loops whenever you can for doing mathematical operations (such as that here)."
   ]
  },
  {
   "cell_type": "markdown",
   "metadata": {},
   "source": [
    "Now let's try working with some 2-dimensional arrays:"
   ]
  },
  {
   "cell_type": "code",
   "execution_count": null,
   "metadata": {},
   "outputs": [],
   "source": [
    "import numpy as np\n",
    "A = np.r_[1:17:1]\n",
    "A = A.reshape([4,4])\n",
    "print('A= ')\n",
    "print(A)"
   ]
  },
  {
   "cell_type": "markdown",
   "metadata": {},
   "source": [
    "We could now use a loop to change all the values in a row or column of the array:"
   ]
  },
  {
   "cell_type": "code",
   "execution_count": null,
   "metadata": {},
   "outputs": [],
   "source": [
    "for i in [0,1,2,3]:\n",
    "    A[i,0] = 100\n",
    "    \n",
    "print(A)"
   ]
  },
  {
   "cell_type": "markdown",
   "metadata": {},
   "source": [
    "But it is still easier to just use Numpy array indexing to do the same thing:"
   ]
  },
  {
   "cell_type": "code",
   "execution_count": null,
   "metadata": {
    "scrolled": true
   },
   "outputs": [],
   "source": [
    "A[:,0] = 200\n",
    "print(A)"
   ]
  },
  {
   "cell_type": "markdown",
   "metadata": {},
   "source": [
    "We can use a double loop to go through the rows and columns of a two-dimensional array just like we did for the one-dimensional array:"
   ]
  },
  {
   "cell_type": "code",
   "execution_count": null,
   "metadata": {},
   "outputs": [],
   "source": [
    "Nrows = A.shape[0]  #number of rows in A\n",
    "Ncols = A.shape[1]  #number of columns in A\n",
    "\n",
    "C = np.zeros([Nrows,Ncols])\n",
    "\n",
    "for i in np.r_[0:Nrows:1]:\n",
    "    for j in np.r_[0:Ncols:1]:\n",
    "        C[i,j] = 1/A[i,j]\n",
    "        \n",
    "print(C)"
   ]
  },
  {
   "cell_type": "markdown",
   "metadata": {},
   "source": [
    "But again this would have just been a lot easier by taking advantage of the fact that you can do math with Numpy arrays:"
   ]
  },
  {
   "cell_type": "code",
   "execution_count": null,
   "metadata": {},
   "outputs": [],
   "source": [
    "B = np.ones([Nrows,Ncols])  #create an array of ones that is the same shape as A\n",
    "C2 = B/A  #c\n",
    "\n",
    "print(C2)"
   ]
  },
  {
   "cell_type": "markdown",
   "metadata": {},
   "source": [
    "The bottom line is that whenever you can you should take advantage of Numpy's arrays and their ability to manipulate them directly to do math.  In general, your code will be more compact, easier to read, and will run faster when you use Numpy arrays and their functions.  You will come across cases when it makes more sense to use loops and you certainly can do so when you need to."
   ]
  },
  {
   "cell_type": "markdown",
   "metadata": {},
   "source": [
    "#### Flight of the Bumblebee!\n",
    "Here is an example of a problem where you can't use arrays: the path that a bee takes during a flight!  Well, I don't know if this is actually how bees fly, but we will approximate their motion using Brownian motion, where the direction they move in has a random component to it.  We can do a simply array calculation because where they are going next depends on where they have been and since their path is random, there is no way to predict it.\n",
    "\n",
    "In this example, let's try to estimate where the bee is located at 100 different points in time.  Here is a simple model for the bee's flight path:  \n",
    "> position now = position at previous time + average velocity time lenght of time bewteen updates + random perturbation in flight path\n",
    " \n",
    " We could write this a little more mathematically as:\n",
    " > $x(t_{i}) = x(t_{i-1}) + v_x*{\\Delta}t + \\delta_{x}$\n",
    " \n",
    " where:  \n",
    " $x(t_i)$ = the bee's position at the curren observation time $t_i$  \n",
    " $x(t_{i-1})$ = the bee's position at the previous observation point $t_{i-1}$  \n",
    " $v_x$ = the average velocity of the bee in the x direction  \n",
    " ${\\Delta}t = t_i - t_{i-1}$ = the length of time between the observation periods\n",
    " $\\delta_x$ = a perturbation in position along the average flight path due to random effects (e.g., wind, pretty flowers, etc)\n",
    " \n",
    "One last thing that we will need is to decide how big to make the deviations from the bee's flight path.  Because these are random deviations, we will use a number random generator, i.e., `np.random.normal()`.  Since this isn't a statistics or biology tutorial, we'll just use a Guassian random number generator for this example, because it can create both positive and negative numbers that follow a bell curve (normal distribution) with a mean of zero and standard deviation of 1.  We will use a parameter (`drift`) to specify how large the deviations of the bee are compared to the average distance the bee travels during a time period between observations.  Thus we will have:\n",
    "\n",
    "> $\\delta_x = drift*rnd$   (where *rnd* is a random number drawn using the np.random.normal() function)\n",
    "\n",
    "\n",
    "So our final formula for the flight path of the bee in the x-direction is:  \n",
    " > $x(t_{i}) = x(t_{i-1}) + v_x*{\\Delta}t + drift*rnd$\n",
    "\n",
    "To make things extra interesting, let's use the same type of formula for the bee's position in the y direction.  In this case, everything would be the same, but replace the x's with y's in the formula.\n",
    " > $y(t_{i}) = y(t_{i-1}) + v_y*{\\Delta}t + drift*rnd$\n",
    "\n",
    "\n",
    " These two equations can be used to update the position of the bee over time - a loop is perfect for this!  But we need to know where the bee is at time $t_{i-1}$ to predict where it will go at time $t_i$.  So we will have to pick a starting position for the bee before we can start calculating step by step where the bee is going using a loop.  In addition, we need to know the average velocity of the bee in the x and y directions.  \n",
    " \n",
    "One last issue is that if we want to use a loop to update the position of the bee over time, we need to initialize the array that will hold these positions first just like we did for the loop counter we made earlier, i.e., we can't update something that doesn't yet exist.\n",
    " \n",
    " So before we start coding, let's map out in words what we need to do to solve this problem:\n",
    " 1. assign the parameters needed for the bee flight model ($v_x, v_y, {\\Delta}t$, and *drift*) \n",
    " 2. assign the initial position of the bee ($x_o$ and $y_o$)\n",
    " 3. define the number of steps through time for which we will observe the bee\n",
    " 4. initialize an array to store the position results\n",
    " 5. for each time step, calculate the new position of the bee from the old position\n",
    " 6. repeat until the bee's position has been calculated for all time steps\n",
    " 7. plot the path of the bee!\n",
    " \n",
    " OK!  Let's try coding this up!"
   ]
  },
  {
   "cell_type": "code",
   "execution_count": null,
   "metadata": {},
   "outputs": [],
   "source": [
    "#1. assign the parameters needed for the bee flight model:\n",
    "vx = 1     #let's assume that the bee is flying at an average x-velocity of 3m/s\n",
    "vy = 1     #                               and an average y-velocity of 5m/s (feel free to change these!)\n",
    "Dt = 0.5   #Let's use a time step of 0.5 seconds between observations\n",
    "drift = 0.1 #parameter controlling how much the bee drifts from its course (as a percentage of mean discplacement)\n",
    "\n",
    "#2. assign the initial position of the bee (let's assume that this is zero)\n",
    "xo = 0\n",
    "yo = 0\n",
    "\n",
    "#3. define the number of steps through time for which we will observe the bee (let's observe the bee for 60 minutes)\n",
    "obs_times = np.r_[0:60:Dt] \n",
    "\n",
    "#4. initialize an array to store the position results\n",
    "positions = np.zeros([obs_times.shape[0],2])  #we will use two columns - one for x and one for y positions\n",
    "\n",
    "#set the initial bee position in the array (note that we do this to be general in case we change xo and yo later)\n",
    "positions[0,0] = xo \n",
    "positions[0,1] = yo\n",
    " \n",
    "#5. for each time step....     (here comes the loop!)\n",
    "for i in np.r_[1:positions.shape[0]:1]:   #we start the counter at 1 here instead of 0 because the first row is xo, yo\n",
    "    #...calculate the new position of the bee from the old position\n",
    "    positions[i,0] = positions[i-1,0] + vx*Dt + drift*np.random.normal()  #calculate the new x position\n",
    "    positions[i,1] = positions[i-1,1] + vy*Dt + drift*np.random.normal()  #calculate the new y position\n",
    "#6. repeat (the loop continues until all time steps have been met)\n",
    "    \n",
    "#7. plot the path of the bee!\n",
    "import matplotlib.pyplot as plt\n",
    "plt.plot(positions[:,0],positions[:,1],'.-')\n",
    "plt.xlabel('x position')\n",
    "plt.ylabel('y position')\n",
    "plt.title('Flight of the Bumblebee! (drift='+str(drift)+')' )\n",
    "plt.axis([-100, 100, -100, 100])"
   ]
  },
  {
   "cell_type": "markdown",
   "metadata": {},
   "source": [
    "With the *`drift`* parameter set to 0.1 we can see that our bee is pretty down to business!  Try changing the drift parameter to 1, 2, and 5 and rerun the code cell multiple times for each case to see what the effect of the parameter is on the flight of the bumblebee!  Clearly the higher the drift parameter, the more distracted the bee!"
   ]
  },
  {
   "cell_type": "markdown",
   "metadata": {},
   "source": [
    "### Challenge Problem 5.3\n",
    "The bee problem is a perfect example of where a function would be useful.  Copy the code from above to the cell below and modify it so that you can call a function as `beeflight(vx,vy,Dt,drift,xo,yo)` that will produce the same output that you were observing above."
   ]
  },
  {
   "cell_type": "code",
   "execution_count": null,
   "metadata": {},
   "outputs": [],
   "source": [
    "#enter your code for the beeflight function here:\n",
    "\n",
    "\n",
    "\n",
    "\n",
    "\n",
    "\n",
    "\n",
    "\n",
    "\n",
    "\n",
    "\n",
    "\n",
    "\n",
    "\n",
    "\n",
    "\n",
    "\n",
    "\n",
    "\n",
    "\n",
    "#calling the function as follows should produce the same type of output as above:\n",
    "beeflight(1,1,0.5,2,0,0)  #you can change the inputs of the function to change the bee flight"
   ]
  },
  {
   "cell_type": "markdown",
   "metadata": {},
   "source": [
    "### Step 4: Plotting multiple data sets with a for loop.\n",
    "One case where loops can work well is when you need to plot multiple data sets.  We will build on our graphing experience from the last four tutorials here to plot a graph with multiple data values on it.\n",
    "\n",
    "Let's start by recalling the final challenge problem from Tutorial 4.  Remember that the goal was to plot user-specified portions of the data showing river levels for different stations, where the data were stored in different data files (make sure that you still have those data files from the challenge problem loaded in your Jupyter server - if you are using the same computer, they should still be there unless you deleted them).\n",
    "\n",
    "Though your final solution may have been slightly different, my function for that problem looked like this:"
   ]
  },
  {
   "cell_type": "code",
   "execution_count": null,
   "metadata": {},
   "outputs": [],
   "source": [
    "def usgsplot(data,tstart,tend,river,sname):\n",
    "    \"\"\"\n",
    "    usgsplot(data,tstart,tend,river,sname)\n",
    "    This function plots a subset of data from a USGS stream gauge specified by the user.\n",
    "    \n",
    "       Input arguments:\n",
    "       data = the full data record for the monitoring station\n",
    "       tstart = index value for the first observation time to plot\n",
    "       tend = index value for the final observation time to plot\n",
    "       river = text string containing the name of the river\n",
    "       sname = text string containing the name of the observation station\n",
    "       \n",
    "       Output arguments:\n",
    "       None  (but a graph is created)\n",
    "       \n",
    "       usgsplot v.1.0 (created by S.Moysey)\n",
    "    \"\"\"\n",
    "       \n",
    "    pdata = data[tstart:tend,:]   #select the data to plot based on the specified start and end periods\n",
    "    plt.plot(pdata[:,0],pdata[:,1])  #plot the selected data\n",
    "\n",
    "    #add axis labels:\n",
    "    plt.xlabel('Days since Jan.1, 2021') \n",
    "    plt.ylabel('River Stage [m]')\n",
    "    \n",
    "    #add a custom title\n",
    "    plt.title(river+' River at '+sname+' - Observation Period: Day '+str(pdata[0,0])+' to Day '+str(pdata[pdata.shape[0]-1,0]))\n"
   ]
  },
  {
   "cell_type": "markdown",
   "metadata": {},
   "source": [
    "You may recall that we loaded the data to plot from data files, loading them like this:"
   ]
  },
  {
   "cell_type": "code",
   "execution_count": null,
   "metadata": {},
   "outputs": [],
   "source": [
    "#load the data for the Fayetteville and Greenville stations\n",
    "data = np.genfromtxt('Tutorial4_Fayetteville2021_stagedata.csv', delimiter=',', skip_header=1)\n",
    "\n",
    "#we could then use our function to plot the data:\n",
    "usgsplot(data,100,6000,'Cape Fear','Fayetteville')"
   ]
  },
  {
   "cell_type": "markdown",
   "metadata": {},
   "source": [
    "In the callenge problem we had used three different data files from three different stations and manually loaded and plotted the data for each one.  Let's use loops to automate that process. "
   ]
  },
  {
   "cell_type": "code",
   "execution_count": null,
   "metadata": {},
   "outputs": [],
   "source": [
    "#let's use a list to store the file name for each of the data files:\n",
    "data_files = ['Tutorial4_Fayetteville2021_stagedata.csv','Tutorial4_Lillington2021_stagedata.csv', 'Tutorial4_Greenville2021_stagedata.csv' ]\n",
    "#let's also define a lists for the river and station name for each data set (the order should match the list of files above):\n",
    "station_name = ['Fayetteville', 'Lillington', 'Greenville']\n",
    "river_name = ['Cape Fear', 'Cape Fear', 'Tar'] #note that we need to repeat Cape Fear since both the Fayettevile\n",
    "                                               #and Lillington stations are on that river\n",
    "\n",
    "#let's also specify the start and stop position in the data that we are going to plot:\n",
    "start = 100\n",
    "stop = 6000\n",
    "\n",
    "#now let's create the for loop to plot the data:\n",
    "for ind,fname in enumerate(data_files):  #notice that we are giving the list of filenames to iterate on\n",
    "    data = np.genfromtxt(fname, delimiter=',', skip_header=1) #fname contains the filename from the list for the current iteration\n",
    "    usgsplot(data,start,stop,river_name[ind],station_name[ind])\n",
    "\n",
    "plt.legend(station_name)"
   ]
  },
  {
   "cell_type": "markdown",
   "metadata": {},
   "source": [
    "To make this really general, we could now also put our new loop in a function:"
   ]
  },
  {
   "cell_type": "code",
   "execution_count": null,
   "metadata": {},
   "outputs": [],
   "source": [
    "def plotusgsfiles(data_files, station_name, river_name, start, stop):\n",
    "    \"\"\"\n",
    "    plotusgsfiles(data_files, station_name, river_name, start, stop)\n",
    "    This function plots the data record from multiple USGS stream gauge files on a single plot.\n",
    "    \n",
    "    Input Arguments:\n",
    "    data_files - a list containing the filename of each data file\n",
    "    station_name - a list containing the name of each station associated with the data files (must have an entry for each data file)\n",
    "    river_name - a list containing the name of each river associated with the data files (must have an entry for each data file)\n",
    "    \n",
    "    Output Arguments:\n",
    "    None (makes a plot)\n",
    "    \n",
    "    plotusgsfiles v.1.0 (created by S. Moysey)\n",
    "    \"\"\"\n",
    "    import numpy as np\n",
    "    import matplotlib.pyplot as plt\n",
    "    \n",
    "    for ind,fname in enumerate(data_files):  #notice that we are giving the list of filenames to iterate on\n",
    "        data = np.genfromtxt(fname, delimiter=',', skip_header=1) #fname contains the filename from the list for the current iteration\n",
    "        usgsplot(data,start,stop,river_name[ind],station_name[ind])\n",
    "        plt.legend(station_name)"
   ]
  },
  {
   "cell_type": "code",
   "execution_count": null,
   "metadata": {},
   "outputs": [],
   "source": [
    "plotusgsfiles(data_files,station_name,river_name,100,6000)  #figure made with just one command!"
   ]
  },
  {
   "cell_type": "markdown",
   "metadata": {},
   "source": [
    "So imagine that plotting this data sets was a common task that you needed to perform (for example, perhaps as part of your job you need to make this identical plot every month with the most recent data available).  If you saved these two functions (i.e., `usgsplot()` and `plotusgsfiles()`) in a module, you could very easily create these professional plots in a consistent way with little chance of data erros in just a matter of seconds every month!  Talk about impressing your boss!"
   ]
  },
  {
   "cell_type": "markdown",
   "metadata": {},
   "source": [
    "### Challenge Problem 5.4\n",
    "For your final challenge problem you will create a function to load and read a data file where observations are listed in rows with each column representing a different variable (the first column will always be the values for the x-axis).  Your function must be able to plot the data for all of the columns on a new plot (<b>tip:</b> to create a new figure window, use the command `figure()` from the matplotlib.pyplot module).  \n",
    "\n",
    "Your function should work for both the [Tutorial5_example_data.csv](https://www.dropbox.com/s/cjy5muk0229fpk0/Tutorial5_example_data.csv?dl=0) and [Tutorial5_example_data2.csv](https://www.dropbox.com/s/grl3jmxnfh9yarv/Tutorial5_example_data2.csv?dl=0) files, which each have a different number of columns.  (Download the files from these links and then upload them to your Jupyter server to access them as you have done in other tutorials.) \n",
    "\n",
    "Here are some output examples of what your output graphs should look like:  \n",
    "[Output Example for Column 3 of Tutorial_example_data1.csv](https://www.dropbox.com/s/p1g8s215o19xesr/Tutorial5_dataset1_output.png?dl=0)  \n",
    "[Output Example for Column 2 of Tutorial_example_data2.csv](https://www.dropbox.com/s/diowc21pnusaga3/Tutorial5_dataset2_output.png?dl=0)\n",
    "\n",
    "(Note: I call the first column that contains the x-values \"column 1\")"
   ]
  },
  {
   "cell_type": "code",
   "execution_count": null,
   "metadata": {},
   "outputs": [],
   "source": [
    "#add your code for the function here:\n",
    "\n",
    "\n",
    "\n",
    "\n",
    "\n",
    "\n",
    "\n",
    "\n",
    "\n",
    "\n",
    "\n",
    "\n",
    "\n",
    "\n",
    "\n",
    "\n",
    "\n"
   ]
  },
  {
   "cell_type": "code",
   "execution_count": null,
   "metadata": {},
   "outputs": [],
   "source": [
    "#your function should work to create 19 plots for the first data set and 3 plots for the second data set)\n",
    "plotdata('Tutorial5_example_data.csv')\n",
    "plotdata('Tutorial5_example_data2.csv')"
   ]
  }
 ],
 "metadata": {
  "kernelspec": {
   "display_name": "Python 3",
   "language": "python",
   "name": "python3"
  },
  "language_info": {
   "codemirror_mode": {
    "name": "ipython",
    "version": 3
   },
   "file_extension": ".py",
   "mimetype": "text/x-python",
   "name": "python",
   "nbconvert_exporter": "python",
   "pygments_lexer": "ipython3",
   "version": "3.7.1"
  }
 },
 "nbformat": 4,
 "nbformat_minor": 2
}
