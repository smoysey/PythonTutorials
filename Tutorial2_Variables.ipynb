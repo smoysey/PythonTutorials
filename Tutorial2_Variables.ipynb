{
 "cells": [
  {
   "cell_type": "markdown",
   "metadata": {},
   "source": [
    "# Practical Python for Scientists and Engineers\n",
    "\n",
    "Welcome!  The goal of these tutorials is to help you get familiar with basic aspects of Python that will allow you to be more productive in everyday work.  We will work on skills that will let you graph, manipulate, and manage data.  Our goal will be to take things one step at a time, learning only what is needed to accomplish a specific task.  The philosophy behind these tutorials is learning by doing, rather than learning to let you do something later.  Hopefully you will start learning tools right from day one that will be useful in other settings.  By the end of these tutorials, you will be able to make complicated applications that load and save data to and from files, manipulate data, run numerical simulations, make complex visualizations and more! \n",
    "\n",
    "Before we get started, we will load pylab - recall that this command just loads some useful tools for us."
   ]
  },
  {
   "cell_type": "code",
   "execution_count": null,
   "metadata": {},
   "outputs": [],
   "source": [
    "pylab "
   ]
  },
  {
   "cell_type": "markdown",
   "metadata": {},
   "source": [
    "## Tutorial 2: Variables\n",
    "\n",
    "This tutorial introduces the concept of variables.  Variables are just like containers that can store information.  We use different types of containers to store different kinds of materials.  For example, a basket is great for storing a picnic lunch, whereas it isn't great for holding a liquid.  In a similar way, different kinds of variables can store different kinds of information.  One of the nice things about Python compared to other programming languages is that you don't really have to worry about what type of \"container\" you need to store your information until you are ready to store it.  In other words, you can declare (or create) variables \"on the fly\" as you need them.  \n",
    "\n",
    "If you recall the first tutorial, we started by directly typing and manipulating numbers when we wanted to make a graph. While this is ok when you are plotting just 3 or 4 points, imagine how difficult that would be if we wanted to plot 3 or 4 THOUSAND data points!  Not so easy.  This is where variables can really make a huge difference.\n",
    "\n",
    "Here's what we'll cover in this tutorial:\n",
    "- assigning numbers to variables\n",
    "- doing math with variables\n",
    "- plotting with variables\n",
    "- types of variables\n",
    "- using variables with text\n",
    "\n",
    "### Step 1: Assigning Numbers to Variables\n",
    "Assigning a value to a variable is how we \"put\" something in the container.  For example, say we want to store the number 2 in a variable we call _x_.  \n",
    "First, let's use the `print()` command to see what is currently stored in the variable *x*.  \n",
    "Run the code cell below:"
   ]
  },
  {
   "cell_type": "code",
   "execution_count": null,
   "metadata": {},
   "outputs": [],
   "source": [
    "print(x)"
   ]
  },
  {
   "cell_type": "markdown",
   "metadata": {},
   "source": [
    "What you should have observed is an error, specifically something that said: \n",
    "<br>***\"NameError: name 'x' is not defined\"***\n",
    "\n",
    "Python is telling you that there is no such variable named *x* the exists in the computer's memory, which makes sense since we haven't created it yet!\n",
    "\n",
    "Now try typing the following in the code cell and executing the cell:\n",
    "`x = 2`"
   ]
  },
  {
   "cell_type": "code",
   "execution_count": null,
   "metadata": {},
   "outputs": [],
   "source": [
    "             #enter your code on this line, then execute the cell\n",
    "print(x)"
   ]
  },
  {
   "cell_type": "markdown",
   "metadata": {},
   "source": [
    "Now you can see that Python printed the number 2, which was the value that you asked it to store for you.  It is important to note that the `=` sign in Python is a symbol that performs the function of assigning a value to a variable.  It is ***not*** a test of whether two things are equal to each other. (For example, it is not checking that the pre-existing value of x is equal to the number 2.  That is something quite different.)\n",
    "\n",
    "\n",
    "Note that we don't even have to use the `print()` command to see what is being stored in *x*.  We could just type the name of the variable itself.   \n",
    "\n",
    "*Run the code cell below and observe what happens.*"
   ]
  },
  {
   "cell_type": "code",
   "execution_count": null,
   "metadata": {},
   "outputs": [],
   "source": [
    "x"
   ]
  },
  {
   "cell_type": "markdown",
   "metadata": {},
   "source": [
    "What do you think would happen if you typed `x = 5`?  Try it and check the value of *x* to see what happened."
   ]
  },
  {
   "cell_type": "code",
   "execution_count": null,
   "metadata": {},
   "outputs": [],
   "source": []
  },
  {
   "cell_type": "markdown",
   "metadata": {},
   "source": [
    "Now that you have tried assigning numbers to a single variable, try assigning values to multiple variables."
   ]
  },
  {
   "cell_type": "code",
   "execution_count": null,
   "metadata": {},
   "outputs": [],
   "source": [
    "a = 10\n",
    "b = 20\n",
    "c = 30\n",
    "print(a,b,c,x)"
   ]
  },
  {
   "cell_type": "markdown",
   "metadata": {},
   "source": [
    "So you can see above that it is easy to create multiple \"containers\" or variables that can hold different numbers.  It is also a neat trick that you can use the `print()` command to output the value of multiple variables at the same time.  Note that you can also use our previous trick of just listing the variables:"
   ]
  },
  {
   "cell_type": "code",
   "execution_count": null,
   "metadata": {},
   "outputs": [],
   "source": [
    "a, b, c, x"
   ]
  },
  {
   "cell_type": "markdown",
   "metadata": {},
   "source": [
    "A couple of last important points:\n",
    "\n",
    "* capitalization matters! a and A are not the same thing!\n",
    "* variable names don't have to be a single letter like above, they can be words or phrases\n",
    "* variable names must start with a letter, but can also contain numbers or underscores, i.e., _\n",
    "* don't use any other special characters in a variable name\n",
    "\n",
    "When creating a new variable, it is a good idea to use a name that is descriptive and help you remember what the variable is.\n",
    "\n",
    "*Run the code cells below and see what happens for each.*"
   ]
  },
  {
   "cell_type": "code",
   "execution_count": null,
   "metadata": {},
   "outputs": [],
   "source": [
    "a = 2\n",
    "A = 20\n",
    "print(a,A)"
   ]
  },
  {
   "cell_type": "code",
   "execution_count": null,
   "metadata": {},
   "outputs": [],
   "source": [
    "my_var = 3\n",
    "print(my_var)"
   ]
  },
  {
   "cell_type": "code",
   "execution_count": null,
   "metadata": {},
   "outputs": [],
   "source": [
    "new-variable = 10\n",
    "print(new-variable)\n",
    "#use of special character creates error"
   ]
  },
  {
   "cell_type": "code",
   "execution_count": null,
   "metadata": {},
   "outputs": [],
   "source": [
    "user1_time = 100\n",
    "print(user1_time)"
   ]
  },
  {
   "cell_type": "code",
   "execution_count": null,
   "metadata": {},
   "outputs": [],
   "source": [
    "error% = 10\n",
    "print(error%)\n",
    "#use of special character creates error"
   ]
  },
  {
   "cell_type": "markdown",
   "metadata": {},
   "source": [
    "### Step 2: Doing Math With Variables\n",
    "One great thing about variables is that you can now use them to do math in a general way. For example, let's say that we want to find the volume of a box whos sides are of lenght a, b, and c. \n",
    "This would just be: \n",
    "    `a*b*c`"
   ]
  },
  {
   "cell_type": "code",
   "execution_count": null,
   "metadata": {},
   "outputs": [],
   "source": [
    "a*b*c"
   ]
  },
  {
   "cell_type": "markdown",
   "metadata": {},
   "source": [
    "You can imagine that it might be handy to store that value.  Try assigning the results of the calculation to a variable named *V* by typing: \n",
    "`V = a*b*c`"
   ]
  },
  {
   "cell_type": "code",
   "execution_count": null,
   "metadata": {},
   "outputs": [],
   "source": []
  },
  {
   "cell_type": "markdown",
   "metadata": {},
   "source": [
    "Note that you do not see an output from this code cell.  Alter the code cell above so that in addition to perform the calculation, you also output the value of V.\n",
    "\n",
    "Now let's imagine that you wanted to know the equivalent radius of a sphere with the same volume.  Since the volume of a sphere is $\\frac{4}{3}\\pi$r$^{3}$, the radius would be: r = $\\sqrt[3]{\\frac{3}{4} V/\\pi}$ or r = $(\\frac{3}{4} V/\\pi)^{\\frac{1}{3}}$\n",
    "\n",
    "Modify the code cell below to print out the value of r, then run the cell to calculate the radius of an equivalent sphere\n",
    "`r = (3/4*V/3.14)**(1/3)` "
   ]
  },
  {
   "cell_type": "code",
   "execution_count": null,
   "metadata": {},
   "outputs": [],
   "source": [
    "               #remember that ** means exponent in Python, just like ^ does in Excel"
   ]
  },
  {
   "cell_type": "markdown",
   "metadata": {},
   "source": [
    "In this example you now have a set of several steps:\n",
    "    \n",
    "    1) define variables and assign them values (here representing the length of each side of a box)\n",
    "            a=10, b=20, c=30\n",
    "    2) calculate the volume of box\n",
    "            V = a*b*c\n",
    "    3) determine the radius of a sphere with the same volume as the box\n",
    "            r = (3/4*V/3.14)**(1/3)\n",
    "\n",
    "Let's put that all together into one code cell:"
   ]
  },
  {
   "cell_type": "code",
   "execution_count": null,
   "metadata": {},
   "outputs": [],
   "source": [
    "a = 10\n",
    "b = 30\n",
    "c = 60\n",
    "V = a*b*c\n",
    "r = (3/4*V/3.14)**(1/3)\n",
    "print(r)"
   ]
  },
  {
   "cell_type": "markdown",
   "metadata": {},
   "source": [
    "Try chaning the dimensions of your box (i.e., the values assigned to a, b, and c) and then run the code cell again.  You can see that you can really easiliy get the r value for any particular values of a, b, c you choose to assign.  In other words, this is like a simple calculator that performs a sequential set of operations to give you a result.  This is a really simple example, but you can probably imagine that you could quickly start to make things much more complicated.  The basic idea would remain the same: \n",
    "1) allow a user to enter some parameters that are assigned to variables, \n",
    "\n",
    "2) do a sequence of steps with the inputs, and \n",
    "\n",
    "3) output the specific result you get for that set of inputs.\n",
    "\n",
    "This is essentially a tiny little program, so congratulations!  You are now a programmer!\n",
    "    \n",
    "    \n",
    "    \n",
    "#### Using variables with arrays\n",
    "We can store any type of information in a variable, so rather than just a single number we could store a set of numbers as an `array()`.  Remember that we use square brackets [] to make a list (which can hold any set of information) and then use the `array()` function to change the list to an array (which can only hold numbers).\n",
    "\n",
    "Type the following into the code cell below and output the result using the `print()` function to see what you get:\n",
    "`a = array([1,2,3])`"
   ]
  },
  {
   "cell_type": "code",
   "execution_count": null,
   "metadata": {},
   "outputs": [],
   "source": [
    "                  #assign the array here\n",
    "print(a)"
   ]
  },
  {
   "cell_type": "markdown",
   "metadata": {},
   "source": [
    "You can still do math with variables containing arrays.  Predict what you think will happen for each of the code cells below and then run the cell to check your answer."
   ]
  },
  {
   "cell_type": "code",
   "execution_count": null,
   "metadata": {},
   "outputs": [],
   "source": [
    "#Example #1\n",
    "b = 10*a\n",
    "print(b)"
   ]
  },
  {
   "cell_type": "code",
   "execution_count": null,
   "metadata": {},
   "outputs": [],
   "source": [
    "#Example #2\n",
    "c = 2\n",
    "d = c*a\n",
    "print(d)"
   ]
  },
  {
   "cell_type": "code",
   "execution_count": null,
   "metadata": {},
   "outputs": [],
   "source": [
    "#Example #3\n",
    "e = array([10,20,30])\n",
    "f = a*e\n",
    "print(f)"
   ]
  },
  {
   "cell_type": "markdown",
   "metadata": {},
   "source": [
    "It should be clear from the examples #1 and #2 that when you multiple a variable containing an array by a single number, regardless of whether that number is stored in a variable or not, the multiplication happens for each element (i.e., number) in the array.\n",
    "\n",
    "Example #3 is a little different.  Here you can see that both *a* and *e* are arrays, each containing a set of three numbers.  When you multiple these two arrays together, each element of the array is multiplied by the same element to get the output.  In other words, if we number each position in the arrays as follows:\n",
    "* a ==> [a1, a2, a3]\n",
    "* e ==> [e1, e2, e3]\n",
    "\n",
    "Then the output of the product of a and e will be:\n",
    "* f ==> [f1, f2, f3] = [a1 x e1, a2 x e2, a3 x e3]\n",
    "\n",
    "This shows that the first element in f, which we are calling f1, would be equal to the first element in *a* times the first element in *e*, i.e., f1 = a1 x e1\n",
    "\n",
    "This is true in general.  So what happens when one array has N number of elements and the other has M number of elements, where N and M are two different values (e.g., N=3 and M=4 below).  \n",
    "\n",
    "Test it out with this code cell:"
   ]
  },
  {
   "cell_type": "code",
   "execution_count": null,
   "metadata": {},
   "outputs": [],
   "source": [
    "g = array([1,2,3,4])\n",
    "h = a*g"
   ]
  },
  {
   "cell_type": "markdown",
   "metadata": {},
   "source": [
    "Notice that you get an error because you need the same number of elements in both arrays to multiple them together.  The only exception to this is when one array contains only one value, i.e., a scaler array, because then that single value can be distributed across the other array as in Example #1 and #2 above."
   ]
  },
  {
   "cell_type": "code",
   "execution_count": null,
   "metadata": {},
   "outputs": [],
   "source": [
    "i = array([10])\n",
    "j = a*i\n",
    "print(j)"
   ]
  },
  {
   "cell_type": "markdown",
   "metadata": {},
   "source": [
    "Going back to our previous example where we used a sequence of calculations to calculate the radius of a sphere with an equivalent volume as a box, we can now make our repeated calculations for different box sizes much easier.  Rather than assigning a, b, and c single values, try assigning them an array of values and then calculate the equivalent radius for a whole series of box types below.  You will need to fill in the arrays for b and c."
   ]
  },
  {
   "cell_type": "code",
   "execution_count": null,
   "metadata": {},
   "outputs": [],
   "source": [
    "a = array([1, 3, 10, 25])\n",
    "b = \n",
    "c = \n",
    "V = a*b*c\n",
    "r = (3/4*V/3.14)**(1/3)\n",
    "print(r)"
   ]
  },
  {
   "cell_type": "markdown",
   "metadata": {},
   "source": [
    "### Step 3: Plotting with variables\n",
    "In the last tutorial you learned about same basic commands for making graphs of data.  In those examples, you had to enter all of the data manually into the plot command.  You can probably imagine that it is actually easier to first assign arrays (or lists) to variables and the pass the variables to the plot command instead.\n",
    "\n",
    "Run the code cell below for an example."
   ]
  },
  {
   "cell_type": "code",
   "execution_count": null,
   "metadata": {},
   "outputs": [],
   "source": [
    "x = array([1,2,3,4,5])\n",
    "y = x**2\n",
    "plot(x,y,'.')"
   ]
  },
  {
   "cell_type": "code",
   "execution_count": null,
   "metadata": {},
   "outputs": [],
   "source": [
    "#remember that you can use the command below to make your plots appear in the notebook instead of a seperate window\n",
    "%matplotlib inline"
   ]
  },
  {
   "cell_type": "markdown",
   "metadata": {},
   "source": [
    "Consider how using variables could really make your life easier for the equivalent radius of a sphere problem we were working on previously.  Now we could really easily set up a problem where we could test and plot how the equivalent radius depends on each dimension of the box as in the example below."
   ]
  },
  {
   "cell_type": "code",
   "execution_count": null,
   "metadata": {
    "scrolled": true
   },
   "outputs": [],
   "source": [
    "a = array([1, 3, 10, 25])\n",
    "b = 1  # keep this side a fixed length while we vary the others\n",
    "c = 1  # keep this side a fixed length while we vary the others\n",
    "V = a*b*c\n",
    "r = (3/4*V/3.14)**(1/3)\n",
    "print(r)\n",
    "plot(a,r,'.-')\n",
    "xlabel('Length of side a')\n",
    "ylabel('Equivalent radius of the sphere')\n",
    "title('Equivalent radius for a sphere with the same volume as a box')"
   ]
  },
  {
   "cell_type": "markdown",
   "metadata": {},
   "source": [
    "Repeat the excercies above, but now enter the code below that you would use to show how the equivalent radius changes as a function of the length of side b, instead of a.  \n",
    "\n",
    "*(Note this is a pretty simply example, but that's not the point!  The idea here is to think about what you would change in this example so that we can do some more complicated things later)*"
   ]
  },
  {
   "cell_type": "code",
   "execution_count": null,
   "metadata": {},
   "outputs": [],
   "source": [
    "x = 2\n",
    "print(type(x))"
   ]
  },
  {
   "cell_type": "markdown",
   "metadata": {},
   "source": [
    "### Step 4: Types of Variables\n",
    "As we have noted earlier, variables can hold many different types of information.  \n",
    "Basic data types in Python include:\n",
    "* Integers: whole numbers (no decimals) ==> 1, 130, -85\n",
    "* Float: real numbers (with decimals) ==> 0.5, -923.13, pi\n",
    "* Boolean: can only take on the value of either True or False (i.e., 0 or 1)\n",
    "* Strings: a set of alphanumeric characters ==> \"x2\", \"my_var\", \"OMG!\"\n",
    "* Complex: complex numbers (real, imaginary) ==> 1+i3 (where i is the square root of -1)\n",
    "\n",
    "We will eventually be using all of these, but right now the most important are integers, floats, and strings.  When you assign a value to a variable, it will automatically set the variable to a particular data type.  You can use the `type()` command to check and see what data type a variable contains.\n",
    "\n",
    "Evaluate the following code cells to see what data type each variable holds.  Note that we are rewritting the information stored in the variable each time to demonstrate that a variable can not only easily store new particular values, but also change the type of data they store dynamically."
   ]
  },
  {
   "cell_type": "code",
   "execution_count": null,
   "metadata": {},
   "outputs": [],
   "source": [
    "x = 2\n",
    "print(x)\n",
    "print(type(x))"
   ]
  },
  {
   "cell_type": "code",
   "execution_count": null,
   "metadata": {},
   "outputs": [],
   "source": [
    "x = 2.34\n",
    "print(x)\n",
    "print(type(x))"
   ]
  },
  {
   "cell_type": "code",
   "execution_count": null,
   "metadata": {},
   "outputs": [],
   "source": [
    "x = pi\n",
    "print(x)\n",
    "print(type(x))"
   ]
  },
  {
   "cell_type": "code",
   "execution_count": null,
   "metadata": {},
   "outputs": [],
   "source": [
    "x = \"my_string\"\n",
    "print(x)\n",
    "print(type(x))"
   ]
  },
  {
   "cell_type": "markdown",
   "metadata": {},
   "source": [
    "These basic variable types can be used to make more complicated types of special data.  For example, an image could be a collection of integer values representing the color value of a pixel, with the values ordered to represent specific locations/pixels in the image.  We will see lots of other examples later on.\n",
    "\n",
    "\n",
    "### Step 5: Using Variables and Text\n",
    "As we saw above, we can include any kind of information within a variable and text is no exception.  A variable can store a word, phrase, or even long passage of text.  Distinguish text using quotation marks - otherwise Python might think that you are trying to enter a variable name or command.\n",
    "\n",
    "Try typing the following in the code cell below:\n",
    "\n",
    ">`\n",
    "name = \"bob\"\n",
    "profession = \"dentist\"\n",
    "print(name, profession)\n",
    "`"
   ]
  },
  {
   "cell_type": "code",
   "execution_count": null,
   "metadata": {
    "scrolled": true
   },
   "outputs": [],
   "source": []
  },
  {
   "cell_type": "markdown",
   "metadata": {},
   "source": [
    "A nice little trick is that you can combine text into outputs or save it to a variable.\n",
    "Evaluate the next code cell to see an example."
   ]
  },
  {
   "cell_type": "code",
   "execution_count": null,
   "metadata": {},
   "outputs": [],
   "source": [
    "print(name,\"is a\", profession)"
   ]
  },
  {
   "cell_type": "markdown",
   "metadata": {},
   "source": [
    "You can even include variables that contain numbers."
   ]
  },
  {
   "cell_type": "code",
   "execution_count": null,
   "metadata": {},
   "outputs": [],
   "source": [
    "print(name, \"is a\", profession,\"and his number is\",a)"
   ]
  },
  {
   "cell_type": "markdown",
   "metadata": {},
   "source": [
    "A problem with this approach is that you can print the output, but look what happens when you try and save this text to a variable:"
   ]
  },
  {
   "cell_type": "code",
   "execution_count": null,
   "metadata": {},
   "outputs": [],
   "source": [
    "my_string = name, \"is a\", profession, \"and his number is\", a\n",
    "print(my_string)\n",
    "print(type(my_string))"
   ]
  },
  {
   "cell_type": "markdown",
   "metadata": {},
   "source": [
    "You can see from the two output lines that each piece of the string has been added to a different element of something that looks like a Python list.  Checking the variable type of `my_string`, however, we find out that it is actually of variable type **tuple**.  This is kind of like a list in Python, but is also somewhat different.  You can tell the difference between a list and tuple because a list has square brackets [] and a tuple has rounded brackets ().  \n",
    "\n",
    "If we want to combine a set of strings together, we can simply use the + sign to concatenate (i.e., combine) strings together.\n",
    "\n",
    "Try these simple examples and see what happens.  Try and predict what the output will look like before you run the cell."
   ]
  },
  {
   "cell_type": "code",
   "execution_count": null,
   "metadata": {},
   "outputs": [],
   "source": [
    "my_string = \"text 1\", \"text 2\"\n",
    "print(my_string)"
   ]
  },
  {
   "cell_type": "code",
   "execution_count": null,
   "metadata": {},
   "outputs": [],
   "source": [
    "my_string2 = \"text1\" + \"text 2\"\n",
    "print(my_string2)"
   ]
  },
  {
   "cell_type": "code",
   "execution_count": null,
   "metadata": {},
   "outputs": [],
   "source": [
    "my_string3 = [\"text1\", \"text2\"]\n",
    "print(my_string3)"
   ]
  },
  {
   "cell_type": "code",
   "execution_count": null,
   "metadata": {},
   "outputs": [],
   "source": [
    "my_string4 = [\"text1\" + \"text2\"]\n",
    "print(my_string4)"
   ]
  },
  {
   "cell_type": "markdown",
   "metadata": {},
   "source": [
    "In the first and third examples, you can see that the text strings are stored as seperate elements in a tuple (round brackets) and list (square brackets).  What about the second and fourth examples?  The text way combined, but they still look different.  Let's check their data type below (remember to use the `print()` and `type()` commands to do this)."
   ]
  },
  {
   "cell_type": "code",
   "execution_count": null,
   "metadata": {},
   "outputs": [],
   "source": []
  },
  {
   "cell_type": "markdown",
   "metadata": {},
   "source": [
    "What we have found is that in the case of my_string2, the variable is simply storing the text string.  In contrast, for my_string4 the variable is holding a list that contains the string (note that this is a list with just one element).\n",
    "\n",
    "All of these options may be useful to us at some point, but for now we just want to explore how and why the string could be useful, so the example of my_string2 is the one to focus on.\n",
    "\n",
    "Now let's see if we can replicate the string we printed earlier, but gave us an error when we tried typing the following:  \n",
    "`my_string = name, \"is a\", profession, \"and his number is\", a`\n",
    "\n",
    "For now, let's forget about adding the number at the end and write a line of code that will save a string to the variable *my_string*, such that when you use the `print(my_string)` command you will get the following output: \n",
    "\n",
    "**bob is a dentist**"
   ]
  },
  {
   "cell_type": "code",
   "execution_count": null,
   "metadata": {},
   "outputs": [],
   "source": []
  },
  {
   "cell_type": "markdown",
   "metadata": {},
   "source": [
    "Great!  Hopefully you have figure that out building on our example for *my_string2* above.\n",
    "\n",
    "Now let's try adding the portion of the command with the number at the end.  First, let's see what happens when you try and concatenate (i.e., combine) a string and a number using the + sign:"
   ]
  },
  {
   "cell_type": "code",
   "execution_count": null,
   "metadata": {},
   "outputs": [],
   "source": [
    "this_is_a_number = 2 #assign the integer value of 2 to the variable called 'this_is_a_number'\n",
    "test_string = \"this is a text string\" + this_is_a_number"
   ]
  },
  {
   "cell_type": "markdown",
   "metadata": {},
   "source": [
    "What you will observe is an error that says *\"can only concatenate str (not \"int\") to str\"*.  In other words, Python is telling you that you can't simply combine words and numbers in that way.  We therefore have to first change the *number* 2 to a *string* before we can combine it.  We can do this with the str() command.\n",
    "\n",
    "### str()\n",
    "*Use the `str()` command to change a number into a string.*\n",
    "\n",
    "Type the following code into the cell below and interpret the results:\n",
    "\n",
    ">`print(type(this_is_a_number))\n",
    "temp_string = str(this_is_a_number)   #convert the number to a string and save the output as a new variable\n",
    "print(type(temp_string))\n",
    "`"
   ]
  },
  {
   "cell_type": "code",
   "execution_count": null,
   "metadata": {},
   "outputs": [],
   "source": []
  },
  {
   "cell_type": "markdown",
   "metadata": {},
   "source": [
    "You should observe from the output that the variable *this_is_a_number* is of variable type 'int', i.e., an integer.  In contrast, after using the `str()` function to convert the 2 to a string, the variable *temp_string* contains a string.  Just to be 100% clear that this has nothing to do with the name of the variable (i.e., the fact that we have \"string\" in the variable name), run the next code cell and observe that we can switch the *temp_string* variable from being a string type to an integer type or float type with no problem."
   ]
  },
  {
   "cell_type": "code",
   "execution_count": null,
   "metadata": {},
   "outputs": [],
   "source": [
    "temp_string = 2  #assign an integer value to the variable instead of a string\n",
    "print(type(temp_string))"
   ]
  },
  {
   "cell_type": "code",
   "execution_count": null,
   "metadata": {},
   "outputs": [],
   "source": [
    "temp_string = 2.3 #assign a float value to the variable instead of a string or integer\n",
    "print(type(temp_string))"
   ]
  },
  {
   "cell_type": "markdown",
   "metadata": {},
   "source": [
    "Now that you know how to convert numbers to strings, we can try saving the full string above (where we previously had an error) and assign it to a variable:"
   ]
  },
  {
   "cell_type": "code",
   "execution_count": null,
   "metadata": {},
   "outputs": [],
   "source": [
    "my_string = name + \"is a\" + profession + \"and his number is\" + str(a)\n",
    "print(my_string)"
   ]
  },
  {
   "cell_type": "markdown",
   "metadata": {},
   "source": [
    "Notice that using concatenate we don't get spaces between each string, so we should edit our string to make sure that we include them in the overall phrase."
   ]
  },
  {
   "cell_type": "code",
   "execution_count": null,
   "metadata": {},
   "outputs": [],
   "source": [
    "my_string = name + \" is a \" + profession + \" and his number is \" + str(a)\n",
    "print(my_string)"
   ]
  },
  {
   "cell_type": "markdown",
   "metadata": {},
   "source": [
    "Finally, try editing the assignments of name, profession, and a in the code cell below and note that we don't need to change the *my_string* line at all to update the full phrase that we are assigning to the variable.  This can be really handy!"
   ]
  },
  {
   "cell_type": "code",
   "execution_count": null,
   "metadata": {},
   "outputs": [],
   "source": [
    "name = \"Sally\"\n",
    "profession = \"doctor\"\n",
    "a = 100\n",
    "my_string = name + \" is a \" + profession + \" and his number is \" + str(a)\n",
    "print(my_string)"
   ]
  },
  {
   "cell_type": "markdown",
   "metadata": {},
   "source": [
    "Almost perfect...at least if Sally is a guy!\n",
    "\n",
    "\n",
    "\n",
    "We will see a lot of other examples later where this kind of thing could be useful.  For right now, let's try and find an immediate use in the graphing you did earlier.\n",
    "\n",
    "For the equivalent radius problem, let's imagine that you wanted to create a set of graphs where, like before, you plotted the variation of the equivalent radius as a function of the length side *a* of the box.  But now, let's imagine that you actually want to create multiple graphs where you also vary the length of sides *b* and *c* too. "
   ]
  },
  {
   "cell_type": "code",
   "execution_count": null,
   "metadata": {},
   "outputs": [],
   "source": [
    "a = array([1, 3, 10, 25])\n",
    "b = 1  # keep this side a fixed length while we vary the others\n",
    "c = 1  # keep this side a fixed length while we vary the others\n",
    "V = a*b*c\n",
    "r = (3/4*V/3.14)**(1/3)\n",
    "print(r)\n",
    "plot(a,r,'.-')\n",
    "xlabel('Length of side a')\n",
    "ylabel('Equivalent radius of the sphere')\n",
    "\n",
    "#everything above here is exactly the same as it was earlier! \n",
    "tname = \"length of side b=\"+str(b)+\" , length of side c=\"+str(c)  #this line is new\n",
    "title(tname)  #here we have only replaced the title with the variable containing the title string"
   ]
  },
  {
   "cell_type": "markdown",
   "metadata": {},
   "source": [
    "Change around the values of *b* and *c* in the code cell above and see how your output changes each time.  Imagine how much easier it would be if you needed to create a set of graphs test 4-5 values for each of b and c....you could just change the number in the code cell, rerun, and export the figure!  Much easier than recreating a new graph each time!\n",
    "\n",
    "\n",
    "------------------------\n",
    "\n",
    "\n",
    "\n",
    "## End of Tutorial Challenge\n",
    "Your final challenge for this tutorial is to use what you have learned to create a code that will graph the function y = x$^{k}$ where the value of *k* is a variable assigned by the user.  Plot this graph for values of x beween -10 and 10 in increments of 1.  Your code should update the title of the graph to indicate the value of *k*, for example the title could be ***k = 2***\n",
    "\n",
    "#### Good luck!\n"
   ]
  },
  {
   "cell_type": "code",
   "execution_count": null,
   "metadata": {},
   "outputs": [],
   "source": []
  }
 ],
 "metadata": {
  "kernelspec": {
   "display_name": "Python 3",
   "language": "python",
   "name": "python3"
  },
  "language_info": {
   "codemirror_mode": {
    "name": "ipython",
    "version": 3
   },
   "file_extension": ".py",
   "mimetype": "text/x-python",
   "name": "python",
   "nbconvert_exporter": "python",
   "pygments_lexer": "ipython3",
   "version": "3.8.5"
  }
 },
 "nbformat": 4,
 "nbformat_minor": 2
}
